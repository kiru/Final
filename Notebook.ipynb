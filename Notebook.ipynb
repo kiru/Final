{
 "cells": [
  {
   "cell_type": "markdown",
   "metadata": {},
   "source": [
    "### Exam ADA"
   ]
  },
  {
   "cell_type": "code",
   "execution_count": 534,
   "metadata": {},
   "outputs": [],
   "source": [
    "%matplotlib inline\n",
    "\n",
    "import pandas as pd\n",
    "import numpy as np\n",
    "import seaborn as sns\n",
    "from sklearn.ensemble import RandomForestClassifier\n",
    "\n"
   ]
  },
  {
   "cell_type": "markdown",
   "metadata": {},
   "source": [
    "## Question 1: Exploring the data - 30 points\n",
    "In this part, you will explore the data to address the curiosities of the demanding Professor Oak.\n",
    "\n",
    "3. (10 points) Professor Oak suspects that Pokémon in the _grass_ class have a stronger regular attack than those in the _rock_ class. Check if he is right and convince him of your conclusion with statistical arguments.\n",
    "   Note: If there are Pokémon that are in both classes, discard them.\n",
    "   Note: You may assume that the distribution of the regular attack feature is normal for all Pokémon classes.\n",
    "4. (10 points) Professor Oak reveals to you that he has built a backdoor into every Pokedex in the world and that he is secretly dumping the memory of all devices to his servers. He expects to have the records of 1 billion combats soon, and one machine won’t be enough to handle all this data, so he wants you to use Spark. Your task: Solve problem 2iv above (“list the names of the 10 Pokémon with the largest number of victories”) with a Spark implementation in Python. The output should be a Python list with 10 names sorted in descending order of number of victories.\n",
    "   Note: You don’t need to run the Spark code -- just list it! You should assume that you have two DataFrames (already loaded) called `pokemon` and `combats`, with the same schema as the small CSV files you’ve been working with above."
   ]
  },
  {
   "cell_type": "code",
   "execution_count": 370,
   "metadata": {},
   "outputs": [],
   "source": [
    "df_pokemon = pd.read_csv(\"pokemon.csv\")\n",
    "df_combats = pd.read_csv('combats.csv')"
   ]
  },
  {
   "cell_type": "code",
   "execution_count": 12,
   "metadata": {},
   "outputs": [
    {
     "data": {
      "text/html": [
       "<div>\n",
       "<style scoped>\n",
       "    .dataframe tbody tr th:only-of-type {\n",
       "        vertical-align: middle;\n",
       "    }\n",
       "\n",
       "    .dataframe tbody tr th {\n",
       "        vertical-align: top;\n",
       "    }\n",
       "\n",
       "    .dataframe thead th {\n",
       "        text-align: right;\n",
       "    }\n",
       "</style>\n",
       "<table border=\"1\" class=\"dataframe\">\n",
       "  <thead>\n",
       "    <tr style=\"text-align: right;\">\n",
       "      <th></th>\n",
       "      <th>pid</th>\n",
       "      <th>Name</th>\n",
       "      <th>Class 1</th>\n",
       "      <th>Class 2</th>\n",
       "      <th>HP</th>\n",
       "      <th>Attack</th>\n",
       "      <th>Defense</th>\n",
       "      <th>Sp. Atk</th>\n",
       "      <th>Sp. Def</th>\n",
       "      <th>Speed</th>\n",
       "      <th>Legendary</th>\n",
       "    </tr>\n",
       "  </thead>\n",
       "  <tbody>\n",
       "    <tr>\n",
       "      <th>0</th>\n",
       "      <td>1</td>\n",
       "      <td>Bulbasaur</td>\n",
       "      <td>Grass</td>\n",
       "      <td>Poison</td>\n",
       "      <td>45</td>\n",
       "      <td>49</td>\n",
       "      <td>49</td>\n",
       "      <td>65</td>\n",
       "      <td>65</td>\n",
       "      <td>45</td>\n",
       "      <td>False</td>\n",
       "    </tr>\n",
       "    <tr>\n",
       "      <th>1</th>\n",
       "      <td>2</td>\n",
       "      <td>Ivysaur</td>\n",
       "      <td>Grass</td>\n",
       "      <td>Poison</td>\n",
       "      <td>60</td>\n",
       "      <td>62</td>\n",
       "      <td>63</td>\n",
       "      <td>80</td>\n",
       "      <td>80</td>\n",
       "      <td>60</td>\n",
       "      <td>False</td>\n",
       "    </tr>\n",
       "    <tr>\n",
       "      <th>2</th>\n",
       "      <td>3</td>\n",
       "      <td>Venusaur</td>\n",
       "      <td>Grass</td>\n",
       "      <td>Poison</td>\n",
       "      <td>80</td>\n",
       "      <td>82</td>\n",
       "      <td>83</td>\n",
       "      <td>100</td>\n",
       "      <td>100</td>\n",
       "      <td>80</td>\n",
       "      <td>False</td>\n",
       "    </tr>\n",
       "    <tr>\n",
       "      <th>3</th>\n",
       "      <td>4</td>\n",
       "      <td>Mega Venusaur</td>\n",
       "      <td>Grass</td>\n",
       "      <td>Poison</td>\n",
       "      <td>80</td>\n",
       "      <td>100</td>\n",
       "      <td>123</td>\n",
       "      <td>122</td>\n",
       "      <td>120</td>\n",
       "      <td>80</td>\n",
       "      <td>False</td>\n",
       "    </tr>\n",
       "    <tr>\n",
       "      <th>4</th>\n",
       "      <td>5</td>\n",
       "      <td>Charmander</td>\n",
       "      <td>Fire</td>\n",
       "      <td>NaN</td>\n",
       "      <td>39</td>\n",
       "      <td>52</td>\n",
       "      <td>43</td>\n",
       "      <td>60</td>\n",
       "      <td>50</td>\n",
       "      <td>65</td>\n",
       "      <td>False</td>\n",
       "    </tr>\n",
       "  </tbody>\n",
       "</table>\n",
       "</div>"
      ],
      "text/plain": [
       "   pid           Name Class 1 Class 2  HP  Attack  Defense  Sp. Atk  Sp. Def  \\\n",
       "0    1      Bulbasaur   Grass  Poison  45      49       49       65       65   \n",
       "1    2        Ivysaur   Grass  Poison  60      62       63       80       80   \n",
       "2    3       Venusaur   Grass  Poison  80      82       83      100      100   \n",
       "3    4  Mega Venusaur   Grass  Poison  80     100      123      122      120   \n",
       "4    5     Charmander    Fire     NaN  39      52       43       60       50   \n",
       "\n",
       "   Speed  Legendary  \n",
       "0     45      False  \n",
       "1     60      False  \n",
       "2     80      False  \n",
       "3     80      False  \n",
       "4     65      False  "
      ]
     },
     "execution_count": 12,
     "metadata": {},
     "output_type": "execute_result"
    }
   ],
   "source": [
    "df_pokemon.head()"
   ]
  },
  {
   "cell_type": "markdown",
   "metadata": {},
   "source": [
    "### 1. Exploring data\n",
    "\n",
    "Let's explore the data, so we get a sense of the Pokémon world!"
   ]
  },
  {
   "cell_type": "markdown",
   "metadata": {},
   "source": [
    "##### Sanity check"
   ]
  },
  {
   "cell_type": "code",
   "execution_count": 53,
   "metadata": {},
   "outputs": [
    {
     "data": {
      "text/html": [
       "<div>\n",
       "<style scoped>\n",
       "    .dataframe tbody tr th:only-of-type {\n",
       "        vertical-align: middle;\n",
       "    }\n",
       "\n",
       "    .dataframe tbody tr th {\n",
       "        vertical-align: top;\n",
       "    }\n",
       "\n",
       "    .dataframe thead th {\n",
       "        text-align: right;\n",
       "    }\n",
       "</style>\n",
       "<table border=\"1\" class=\"dataframe\">\n",
       "  <thead>\n",
       "    <tr style=\"text-align: right;\">\n",
       "      <th></th>\n",
       "      <th>pid</th>\n",
       "      <th>Name</th>\n",
       "      <th>Class 1</th>\n",
       "      <th>Class 2</th>\n",
       "      <th>HP</th>\n",
       "      <th>Attack</th>\n",
       "      <th>Defense</th>\n",
       "      <th>Sp. Atk</th>\n",
       "      <th>Sp. Def</th>\n",
       "      <th>Speed</th>\n",
       "      <th>Legendary</th>\n",
       "    </tr>\n",
       "  </thead>\n",
       "  <tbody>\n",
       "    <tr>\n",
       "      <th>62</th>\n",
       "      <td>63</td>\n",
       "      <td>NaN</td>\n",
       "      <td>Fighting</td>\n",
       "      <td>NaN</td>\n",
       "      <td>65</td>\n",
       "      <td>105</td>\n",
       "      <td>60</td>\n",
       "      <td>60</td>\n",
       "      <td>70</td>\n",
       "      <td>95</td>\n",
       "      <td>False</td>\n",
       "    </tr>\n",
       "  </tbody>\n",
       "</table>\n",
       "</div>"
      ],
      "text/plain": [
       "    pid Name   Class 1 Class 2  HP  Attack  Defense  Sp. Atk  Sp. Def  Speed  \\\n",
       "62   63  NaN  Fighting     NaN  65     105       60       60       70     95   \n",
       "\n",
       "    Legendary  \n",
       "62      False  "
      ]
     },
     "execution_count": 53,
     "metadata": {},
     "output_type": "execute_result"
    }
   ],
   "source": [
    "df_pokemon[df_pokemon['Class 1'].isna()] ## all pokmeon have classes => this is empty\n",
    "df_pokemon[df_pokemon['Name'].isna()] ## one pokemon without name, what do we do?\n",
    "# I decide not to remove it, since it might be missing data - or unkown name"
   ]
  },
  {
   "cell_type": "markdown",
   "metadata": {},
   "source": [
    "##### How many classes are there?"
   ]
  },
  {
   "cell_type": "code",
   "execution_count": 139,
   "metadata": {},
   "outputs": [
    {
     "data": {
      "text/plain": [
       "18"
      ]
     },
     "execution_count": 139,
     "metadata": {},
     "output_type": "execute_result"
    }
   ],
   "source": [
    "len(set(df_pokemon['Class 1']) & set(df_pokemon['Class 2']))"
   ]
  },
  {
   "cell_type": "markdown",
   "metadata": {},
   "source": [
    "##### How many pokemon are there? How many combats?"
   ]
  },
  {
   "cell_type": "code",
   "execution_count": 142,
   "metadata": {},
   "outputs": [
    {
     "name": "stdout",
     "output_type": "stream",
     "text": [
      "800\n",
      "50000\n"
     ]
    }
   ],
   "source": [
    "print(len(df_pokemon))\n",
    "print(len(df_combats))"
   ]
  },
  {
   "cell_type": "markdown",
   "metadata": {},
   "source": [
    "##### What is the distribuation of the classes?"
   ]
  },
  {
   "cell_type": "code",
   "execution_count": 72,
   "metadata": {},
   "outputs": [
    {
     "data": {
      "text/plain": [
       "''"
      ]
     },
     "execution_count": 72,
     "metadata": {},
     "output_type": "execute_result"
    }
   ],
   "source": [
    "# Combine class 1 and class 2\n",
    "df_class_2 = df_pokemon.copy()\n",
    "df_class_2['Class'] = df_class_2['Class 2']\n",
    "df_class_2.loc[:, df_class_2.columns != 'Class 1']\n",
    "\n",
    "df_class_1 = df_pokemon.copy()\n",
    "df_class_1['Class'] = df_class_1['Class 1']\n",
    "df_class_1.loc[:, df_class_1.columns != 'Class 2']\n",
    ";"
   ]
  },
  {
   "cell_type": "code",
   "execution_count": 81,
   "metadata": {},
   "outputs": [],
   "source": [
    "df_pokemon_one_class = df_class_1.append(df_class_2, ignore_index=True)\n",
    "df_pokemon_one_class = df_pokemon_one_class.loc[:, df_pokemon_one_class.columns != 'Class 1']\n",
    "df_pokemon_one_class = df_pokemon_one_class.loc[:, df_pokemon_one_class.columns != 'Class 2']\n",
    "df_pokemon_one_class.reset_index(inplace=True)"
   ]
  },
  {
   "cell_type": "code",
   "execution_count": 93,
   "metadata": {},
   "outputs": [
    {
     "data": {
      "text/plain": [
       "<matplotlib.axes._subplots.AxesSubplot at 0x10aaf1cf8>"
      ]
     },
     "execution_count": 93,
     "metadata": {},
     "output_type": "execute_result"
    },
    {
     "data": {
      "image/png": "[encoded data removed]",
      "text/plain": [
       "<Figure size 432x288 with 1 Axes>"
      ]
     },
     "metadata": {
      "needs_background": "light"
     },
     "output_type": "display_data"
    }
   ],
   "source": [
    "df_pokemon_one_class.groupby('Class').count()['pid'].plot.bar()"
   ]
  },
  {
   "cell_type": "markdown",
   "metadata": {},
   "source": [
    "##### Describe"
   ]
  },
  {
   "cell_type": "code",
   "execution_count": 99,
   "metadata": {},
   "outputs": [
    {
     "data": {
      "text/html": [
       "<div>\n",
       "<style scoped>\n",
       "    .dataframe tbody tr th:only-of-type {\n",
       "        vertical-align: middle;\n",
       "    }\n",
       "\n",
       "    .dataframe tbody tr th {\n",
       "        vertical-align: top;\n",
       "    }\n",
       "\n",
       "    .dataframe thead th {\n",
       "        text-align: right;\n",
       "    }\n",
       "</style>\n",
       "<table border=\"1\" class=\"dataframe\">\n",
       "  <thead>\n",
       "    <tr style=\"text-align: right;\">\n",
       "      <th></th>\n",
       "      <th>pid</th>\n",
       "      <th>HP</th>\n",
       "      <th>Attack</th>\n",
       "      <th>Defense</th>\n",
       "      <th>Sp. Atk</th>\n",
       "      <th>Sp. Def</th>\n",
       "      <th>Speed</th>\n",
       "    </tr>\n",
       "  </thead>\n",
       "  <tbody>\n",
       "    <tr>\n",
       "      <th>count</th>\n",
       "      <td>800.0000</td>\n",
       "      <td>800.000000</td>\n",
       "      <td>800.000000</td>\n",
       "      <td>800.000000</td>\n",
       "      <td>800.000000</td>\n",
       "      <td>800.000000</td>\n",
       "      <td>800.000000</td>\n",
       "    </tr>\n",
       "    <tr>\n",
       "      <th>mean</th>\n",
       "      <td>400.5000</td>\n",
       "      <td>69.258750</td>\n",
       "      <td>79.001250</td>\n",
       "      <td>73.842500</td>\n",
       "      <td>72.820000</td>\n",
       "      <td>71.902500</td>\n",
       "      <td>68.277500</td>\n",
       "    </tr>\n",
       "    <tr>\n",
       "      <th>std</th>\n",
       "      <td>231.0844</td>\n",
       "      <td>25.534669</td>\n",
       "      <td>32.457366</td>\n",
       "      <td>31.183501</td>\n",
       "      <td>32.722294</td>\n",
       "      <td>27.828916</td>\n",
       "      <td>29.060474</td>\n",
       "    </tr>\n",
       "    <tr>\n",
       "      <th>min</th>\n",
       "      <td>1.0000</td>\n",
       "      <td>1.000000</td>\n",
       "      <td>5.000000</td>\n",
       "      <td>5.000000</td>\n",
       "      <td>10.000000</td>\n",
       "      <td>20.000000</td>\n",
       "      <td>5.000000</td>\n",
       "    </tr>\n",
       "    <tr>\n",
       "      <th>25%</th>\n",
       "      <td>200.7500</td>\n",
       "      <td>50.000000</td>\n",
       "      <td>55.000000</td>\n",
       "      <td>50.000000</td>\n",
       "      <td>49.750000</td>\n",
       "      <td>50.000000</td>\n",
       "      <td>45.000000</td>\n",
       "    </tr>\n",
       "    <tr>\n",
       "      <th>50%</th>\n",
       "      <td>400.5000</td>\n",
       "      <td>65.000000</td>\n",
       "      <td>75.000000</td>\n",
       "      <td>70.000000</td>\n",
       "      <td>65.000000</td>\n",
       "      <td>70.000000</td>\n",
       "      <td>65.000000</td>\n",
       "    </tr>\n",
       "    <tr>\n",
       "      <th>75%</th>\n",
       "      <td>600.2500</td>\n",
       "      <td>80.000000</td>\n",
       "      <td>100.000000</td>\n",
       "      <td>90.000000</td>\n",
       "      <td>95.000000</td>\n",
       "      <td>90.000000</td>\n",
       "      <td>90.000000</td>\n",
       "    </tr>\n",
       "    <tr>\n",
       "      <th>max</th>\n",
       "      <td>800.0000</td>\n",
       "      <td>255.000000</td>\n",
       "      <td>190.000000</td>\n",
       "      <td>230.000000</td>\n",
       "      <td>194.000000</td>\n",
       "      <td>230.000000</td>\n",
       "      <td>180.000000</td>\n",
       "    </tr>\n",
       "  </tbody>\n",
       "</table>\n",
       "</div>"
      ],
      "text/plain": [
       "            pid          HP      Attack     Defense     Sp. Atk     Sp. Def  \\\n",
       "count  800.0000  800.000000  800.000000  800.000000  800.000000  800.000000   \n",
       "mean   400.5000   69.258750   79.001250   73.842500   72.820000   71.902500   \n",
       "std    231.0844   25.534669   32.457366   31.183501   32.722294   27.828916   \n",
       "min      1.0000    1.000000    5.000000    5.000000   10.000000   20.000000   \n",
       "25%    200.7500   50.000000   55.000000   50.000000   49.750000   50.000000   \n",
       "50%    400.5000   65.000000   75.000000   70.000000   65.000000   70.000000   \n",
       "75%    600.2500   80.000000  100.000000   90.000000   95.000000   90.000000   \n",
       "max    800.0000  255.000000  190.000000  230.000000  194.000000  230.000000   \n",
       "\n",
       "            Speed  \n",
       "count  800.000000  \n",
       "mean    68.277500  \n",
       "std     29.060474  \n",
       "min      5.000000  \n",
       "25%     45.000000  \n",
       "50%     65.000000  \n",
       "75%     90.000000  \n",
       "max    180.000000  "
      ]
     },
     "execution_count": 99,
     "metadata": {},
     "output_type": "execute_result"
    }
   ],
   "source": [
    "df_pokemon.describe()"
   ]
  },
  {
   "cell_type": "markdown",
   "metadata": {},
   "source": [
    "##### Attack and Defense distribution"
   ]
  },
  {
   "cell_type": "code",
   "execution_count": 106,
   "metadata": {},
   "outputs": [
    {
     "data": {
      "text/plain": [
       "<matplotlib.axes._subplots.AxesSubplot at 0x1141fc080>"
      ]
     },
     "execution_count": 106,
     "metadata": {},
     "output_type": "execute_result"
    },
    {
     "data": {
      "image/png": "[encoded data removed]",
      "text/plain": [
       "<Figure size 432x288 with 1 Axes>"
      ]
     },
     "metadata": {
      "needs_background": "light"
     },
     "output_type": "display_data"
    }
   ],
   "source": [
    "df_pokemon.Attack.plot.hist(bins=20)"
   ]
  },
  {
   "cell_type": "code",
   "execution_count": 108,
   "metadata": {},
   "outputs": [
    {
     "data": {
      "text/plain": [
       "<matplotlib.axes._subplots.AxesSubplot at 0x1149d26a0>"
      ]
     },
     "execution_count": 108,
     "metadata": {},
     "output_type": "execute_result"
    },
    {
     "data": {
      "image/png": "[encoded data removed]",
      "text/plain": [
       "<Figure size 432x288 with 1 Axes>"
      ]
     },
     "metadata": {
      "needs_background": "light"
     },
     "output_type": "display_data"
    }
   ],
   "source": [
    "df_pokemon.Defense.plot.hist(bins=20)"
   ]
  },
  {
   "cell_type": "markdown",
   "metadata": {},
   "source": [
    "##### 2. (4 points) Compare the probability distribution of the “regular attack” feature with that of the “regular defense” feature. In particular,\n"
   ]
  },
  {
   "cell_type": "markdown",
   "metadata": {},
   "source": [
    "##### 2.1. visualize the relation between these two variables using an appropriate plot;"
   ]
  },
  {
   "cell_type": "code",
   "execution_count": 113,
   "metadata": {},
   "outputs": [
    {
     "data": {
      "text/plain": [
       "<matplotlib.axes._subplots.AxesSubplot at 0x114f5fdd8>"
      ]
     },
     "execution_count": 113,
     "metadata": {},
     "output_type": "execute_result"
    },
    {
     "data": {
      "image/png": "[encoded data removed]",
      "text/plain": [
       "<Figure size 432x288 with 1 Axes>"
      ]
     },
     "metadata": {
      "needs_background": "light"
     },
     "output_type": "display_data"
    }
   ],
   "source": [
    "# See if strong pokemon in attack are alos strong in defense\n",
    "df_pokemon.plot.scatter('Attack', 'Defense')"
   ]
  },
  {
   "cell_type": "code",
   "execution_count": 123,
   "metadata": {},
   "outputs": [],
   "source": [
    "df_pokemon_with_ratio = df_pokemon.copy()\n",
    "df_pokemon_with_ratio['Ratio'] = df_pokemon['Attack'] / df_pokemon['Defense']"
   ]
  },
  {
   "cell_type": "markdown",
   "metadata": {},
   "source": [
    "#####   2.2 list the names of the 3 Pokémon with highest attack-over-defense ratio;"
   ]
  },
  {
   "cell_type": "code",
   "execution_count": 134,
   "metadata": {},
   "outputs": [
    {
     "data": {
      "text/html": [
       "<div>\n",
       "<style scoped>\n",
       "    .dataframe tbody tr th:only-of-type {\n",
       "        vertical-align: middle;\n",
       "    }\n",
       "\n",
       "    .dataframe tbody tr th {\n",
       "        vertical-align: top;\n",
       "    }\n",
       "\n",
       "    .dataframe thead th {\n",
       "        text-align: right;\n",
       "    }\n",
       "</style>\n",
       "<table border=\"1\" class=\"dataframe\">\n",
       "  <thead>\n",
       "    <tr style=\"text-align: right;\">\n",
       "      <th></th>\n",
       "      <th>pid</th>\n",
       "      <th>Name</th>\n",
       "      <th>Class 1</th>\n",
       "      <th>Class 2</th>\n",
       "      <th>HP</th>\n",
       "      <th>Attack</th>\n",
       "      <th>Defense</th>\n",
       "      <th>Sp. Atk</th>\n",
       "      <th>Sp. Def</th>\n",
       "      <th>Speed</th>\n",
       "      <th>Legendary</th>\n",
       "      <th>Ratio</th>\n",
       "    </tr>\n",
       "  </thead>\n",
       "  <tbody>\n",
       "    <tr>\n",
       "      <th>429</th>\n",
       "      <td>430</td>\n",
       "      <td>DeoxysAttack Forme</td>\n",
       "      <td>Psychic</td>\n",
       "      <td>NaN</td>\n",
       "      <td>50</td>\n",
       "      <td>180</td>\n",
       "      <td>20</td>\n",
       "      <td>180</td>\n",
       "      <td>20</td>\n",
       "      <td>150</td>\n",
       "      <td>True</td>\n",
       "      <td>9.00</td>\n",
       "    </tr>\n",
       "    <tr>\n",
       "      <th>347</th>\n",
       "      <td>348</td>\n",
       "      <td>Carvanha</td>\n",
       "      <td>Water</td>\n",
       "      <td>Dark</td>\n",
       "      <td>45</td>\n",
       "      <td>90</td>\n",
       "      <td>20</td>\n",
       "      <td>65</td>\n",
       "      <td>20</td>\n",
       "      <td>65</td>\n",
       "      <td>False</td>\n",
       "      <td>4.50</td>\n",
       "    </tr>\n",
       "    <tr>\n",
       "      <th>19</th>\n",
       "      <td>20</td>\n",
       "      <td>Mega Beedrill</td>\n",
       "      <td>Bug</td>\n",
       "      <td>Poison</td>\n",
       "      <td>65</td>\n",
       "      <td>150</td>\n",
       "      <td>40</td>\n",
       "      <td>15</td>\n",
       "      <td>80</td>\n",
       "      <td>145</td>\n",
       "      <td>False</td>\n",
       "      <td>3.75</td>\n",
       "    </tr>\n",
       "  </tbody>\n",
       "</table>\n",
       "</div>"
      ],
      "text/plain": [
       "     pid                Name  Class 1 Class 2  HP  Attack  Defense  Sp. Atk  \\\n",
       "429  430  DeoxysAttack Forme  Psychic     NaN  50     180       20      180   \n",
       "347  348            Carvanha    Water    Dark  45      90       20       65   \n",
       "19    20       Mega Beedrill      Bug  Poison  65     150       40       15   \n",
       "\n",
       "     Sp. Def  Speed  Legendary  Ratio  \n",
       "429       20    150       True   9.00  \n",
       "347       20     65      False   4.50  \n",
       "19        80    145      False   3.75  "
      ]
     },
     "execution_count": 134,
     "metadata": {},
     "output_type": "execute_result"
    }
   ],
   "source": [
    "df_pokemon_with_ratio.sort_values('Ratio', ascending=False).head(3)"
   ]
  },
  {
   "cell_type": "markdown",
   "metadata": {},
   "source": [
    "##### 2.3 list the names of the 3 Pokémon with lowest attack-over-defense ratio;"
   ]
  },
  {
   "cell_type": "code",
   "execution_count": 145,
   "metadata": {},
   "outputs": [
    {
     "data": {
      "text/html": [
       "<div>\n",
       "<style scoped>\n",
       "    .dataframe tbody tr th:only-of-type {\n",
       "        vertical-align: middle;\n",
       "    }\n",
       "\n",
       "    .dataframe tbody tr th {\n",
       "        vertical-align: top;\n",
       "    }\n",
       "\n",
       "    .dataframe thead th {\n",
       "        text-align: right;\n",
       "    }\n",
       "</style>\n",
       "<table border=\"1\" class=\"dataframe\">\n",
       "  <thead>\n",
       "    <tr style=\"text-align: right;\">\n",
       "      <th></th>\n",
       "      <th>pid</th>\n",
       "      <th>Name</th>\n",
       "      <th>Class 1</th>\n",
       "      <th>Class 2</th>\n",
       "      <th>HP</th>\n",
       "      <th>Attack</th>\n",
       "      <th>Defense</th>\n",
       "      <th>Sp. Atk</th>\n",
       "      <th>Sp. Def</th>\n",
       "      <th>Speed</th>\n",
       "      <th>Legendary</th>\n",
       "      <th>Ratio</th>\n",
       "    </tr>\n",
       "  </thead>\n",
       "  <tbody>\n",
       "    <tr>\n",
       "      <th>230</th>\n",
       "      <td>231</td>\n",
       "      <td>Shuckle</td>\n",
       "      <td>Bug</td>\n",
       "      <td>Rock</td>\n",
       "      <td>20</td>\n",
       "      <td>10</td>\n",
       "      <td>230</td>\n",
       "      <td>10</td>\n",
       "      <td>230</td>\n",
       "      <td>5</td>\n",
       "      <td>False</td>\n",
       "      <td>0.043478</td>\n",
       "    </tr>\n",
       "    <tr>\n",
       "      <th>139</th>\n",
       "      <td>140</td>\n",
       "      <td>Magikarp</td>\n",
       "      <td>Water</td>\n",
       "      <td>NaN</td>\n",
       "      <td>20</td>\n",
       "      <td>10</td>\n",
       "      <td>55</td>\n",
       "      <td>15</td>\n",
       "      <td>20</td>\n",
       "      <td>80</td>\n",
       "      <td>False</td>\n",
       "      <td>0.181818</td>\n",
       "    </tr>\n",
       "    <tr>\n",
       "      <th>484</th>\n",
       "      <td>485</td>\n",
       "      <td>Bronzor</td>\n",
       "      <td>Steel</td>\n",
       "      <td>Psychic</td>\n",
       "      <td>57</td>\n",
       "      <td>24</td>\n",
       "      <td>86</td>\n",
       "      <td>24</td>\n",
       "      <td>86</td>\n",
       "      <td>23</td>\n",
       "      <td>False</td>\n",
       "      <td>0.279070</td>\n",
       "    </tr>\n",
       "  </tbody>\n",
       "</table>\n",
       "</div>"
      ],
      "text/plain": [
       "     pid      Name Class 1  Class 2  HP  Attack  Defense  Sp. Atk  Sp. Def  \\\n",
       "230  231   Shuckle     Bug     Rock  20      10      230       10      230   \n",
       "139  140  Magikarp   Water      NaN  20      10       55       15       20   \n",
       "484  485   Bronzor   Steel  Psychic  57      24       86       24       86   \n",
       "\n",
       "     Speed  Legendary     Ratio  \n",
       "230      5      False  0.043478  \n",
       "139     80      False  0.181818  \n",
       "484     23      False  0.279070  "
      ]
     },
     "execution_count": 145,
     "metadata": {},
     "output_type": "execute_result"
    }
   ],
   "source": [
    "df_pokemon_with_ratio.sort_values('Ratio', ascending=True).head(3)"
   ]
  },
  {
   "cell_type": "markdown",
   "metadata": {},
   "source": [
    "##### 2.4. list the names of the 10 Pokémon with the largest number of victories."
   ]
  },
  {
   "cell_type": "code",
   "execution_count": 177,
   "metadata": {},
   "outputs": [
    {
     "data": {
      "text/html": [
       "<div>\n",
       "<style scoped>\n",
       "    .dataframe tbody tr th:only-of-type {\n",
       "        vertical-align: middle;\n",
       "    }\n",
       "\n",
       "    .dataframe tbody tr th {\n",
       "        vertical-align: top;\n",
       "    }\n",
       "\n",
       "    .dataframe thead th {\n",
       "        text-align: right;\n",
       "    }\n",
       "</style>\n",
       "<table border=\"1\" class=\"dataframe\">\n",
       "  <thead>\n",
       "    <tr style=\"text-align: right;\">\n",
       "      <th></th>\n",
       "      <th>Name</th>\n",
       "    </tr>\n",
       "    <tr>\n",
       "      <th>Winner</th>\n",
       "      <th></th>\n",
       "    </tr>\n",
       "  </thead>\n",
       "  <tbody>\n",
       "    <tr>\n",
       "      <th>163</th>\n",
       "      <td>Mewtwo</td>\n",
       "    </tr>\n",
       "    <tr>\n",
       "      <th>154</th>\n",
       "      <td>Aerodactyl</td>\n",
       "    </tr>\n",
       "    <tr>\n",
       "      <th>438</th>\n",
       "      <td>Infernape</td>\n",
       "    </tr>\n",
       "    <tr>\n",
       "      <th>428</th>\n",
       "      <td>Jirachi</td>\n",
       "    </tr>\n",
       "    <tr>\n",
       "      <th>432</th>\n",
       "      <td>Deoxys Speed Forme</td>\n",
       "    </tr>\n",
       "    <tr>\n",
       "      <th>314</th>\n",
       "      <td>Slaking</td>\n",
       "    </tr>\n",
       "    <tr>\n",
       "      <th>214</th>\n",
       "      <td>Murkrow</td>\n",
       "    </tr>\n",
       "    <tr>\n",
       "      <th>394</th>\n",
       "      <td>Mega Absol</td>\n",
       "    </tr>\n",
       "    <tr>\n",
       "      <th>249</th>\n",
       "      <td>Mega Houndoom</td>\n",
       "    </tr>\n",
       "    <tr>\n",
       "      <th>155</th>\n",
       "      <td>Mega Aerodactyl</td>\n",
       "    </tr>\n",
       "  </tbody>\n",
       "</table>\n",
       "</div>"
      ],
      "text/plain": [
       "                      Name\n",
       "Winner                    \n",
       "163                 Mewtwo\n",
       "154             Aerodactyl\n",
       "438              Infernape\n",
       "428                Jirachi\n",
       "432     Deoxys Speed Forme\n",
       "314                Slaking\n",
       "214                Murkrow\n",
       "394             Mega Absol\n",
       "249          Mega Houndoom\n",
       "155        Mega Aerodactyl"
      ]
     },
     "execution_count": 177,
     "metadata": {},
     "output_type": "execute_result"
    }
   ],
   "source": [
    "df_count_winner = df_combats.groupby('Winner').count()['First_pokemon'].to_frame()\n",
    "df_top_ten_winner = df_count_winner.sort_values('First_pokemon', ascending=False).head(10)\n",
    "df_top_ten_winner.join(df_pokemon.set_index('pid'))['Name'].to_frame()"
   ]
  },
  {
   "cell_type": "markdown",
   "metadata": {},
   "source": [
    "### 3\n",
    "(10 points) Professor Oak suspects that Pokémon in the grass class have a stronger regular attack than those in the rock class. Check if he is right and convince him of your conclusion with statistical arguments. Note: If there are Pokémon that are in both classes, discard them. Note: You may assume that the distribution of the regular attack feature is normal for all Pokémon classes."
   ]
  },
  {
   "cell_type": "code",
   "execution_count": 179,
   "metadata": {},
   "outputs": [],
   "source": [
    "## Discared the one in both classes"
   ]
  },
  {
   "cell_type": "code",
   "execution_count": 192,
   "metadata": {},
   "outputs": [
    {
     "data": {
      "text/html": [
       "<div>\n",
       "<style scoped>\n",
       "    .dataframe tbody tr th:only-of-type {\n",
       "        vertical-align: middle;\n",
       "    }\n",
       "\n",
       "    .dataframe tbody tr th {\n",
       "        vertical-align: top;\n",
       "    }\n",
       "\n",
       "    .dataframe thead th {\n",
       "        text-align: right;\n",
       "    }\n",
       "</style>\n",
       "<table border=\"1\" class=\"dataframe\">\n",
       "  <thead>\n",
       "    <tr style=\"text-align: right;\">\n",
       "      <th></th>\n",
       "      <th>pid</th>\n",
       "      <th>Name</th>\n",
       "      <th>Class 1</th>\n",
       "      <th>Class 2</th>\n",
       "      <th>HP</th>\n",
       "      <th>Attack</th>\n",
       "      <th>Defense</th>\n",
       "      <th>Sp. Atk</th>\n",
       "      <th>Sp. Def</th>\n",
       "      <th>Speed</th>\n",
       "      <th>Legendary</th>\n",
       "    </tr>\n",
       "  </thead>\n",
       "  <tbody>\n",
       "  </tbody>\n",
       "</table>\n",
       "</div>"
      ],
      "text/plain": [
       "Empty DataFrame\n",
       "Columns: [pid, Name, Class 1, Class 2, HP, Attack, Defense, Sp. Atk, Sp. Def, Speed, Legendary]\n",
       "Index: []"
      ]
     },
     "execution_count": 192,
     "metadata": {},
     "output_type": "execute_result"
    }
   ],
   "source": [
    "df_pokemon[(df_pokemon['Class 1'] == 'Grass') & (df_pokemon['Class 2'] == 'Rock')]"
   ]
  },
  {
   "cell_type": "code",
   "execution_count": 195,
   "metadata": {},
   "outputs": [
    {
     "data": {
      "text/html": [
       "<div>\n",
       "<style scoped>\n",
       "    .dataframe tbody tr th:only-of-type {\n",
       "        vertical-align: middle;\n",
       "    }\n",
       "\n",
       "    .dataframe tbody tr th {\n",
       "        vertical-align: top;\n",
       "    }\n",
       "\n",
       "    .dataframe thead th {\n",
       "        text-align: right;\n",
       "    }\n",
       "</style>\n",
       "<table border=\"1\" class=\"dataframe\">\n",
       "  <thead>\n",
       "    <tr style=\"text-align: right;\">\n",
       "      <th></th>\n",
       "      <th>pid</th>\n",
       "      <th>Name</th>\n",
       "      <th>Class 1</th>\n",
       "      <th>Class 2</th>\n",
       "      <th>HP</th>\n",
       "      <th>Attack</th>\n",
       "      <th>Defense</th>\n",
       "      <th>Sp. Atk</th>\n",
       "      <th>Sp. Def</th>\n",
       "      <th>Speed</th>\n",
       "      <th>Legendary</th>\n",
       "    </tr>\n",
       "  </thead>\n",
       "  <tbody>\n",
       "    <tr>\n",
       "      <th>377</th>\n",
       "      <td>378</td>\n",
       "      <td>Lileep</td>\n",
       "      <td>Rock</td>\n",
       "      <td>Grass</td>\n",
       "      <td>66</td>\n",
       "      <td>41</td>\n",
       "      <td>77</td>\n",
       "      <td>61</td>\n",
       "      <td>87</td>\n",
       "      <td>23</td>\n",
       "      <td>False</td>\n",
       "    </tr>\n",
       "    <tr>\n",
       "      <th>378</th>\n",
       "      <td>379</td>\n",
       "      <td>Cradily</td>\n",
       "      <td>Rock</td>\n",
       "      <td>Grass</td>\n",
       "      <td>86</td>\n",
       "      <td>81</td>\n",
       "      <td>97</td>\n",
       "      <td>81</td>\n",
       "      <td>107</td>\n",
       "      <td>43</td>\n",
       "      <td>False</td>\n",
       "    </tr>\n",
       "  </tbody>\n",
       "</table>\n",
       "</div>"
      ],
      "text/plain": [
       "     pid     Name Class 1 Class 2  HP  Attack  Defense  Sp. Atk  Sp. Def  \\\n",
       "377  378   Lileep    Rock   Grass  66      41       77       61       87   \n",
       "378  379  Cradily    Rock   Grass  86      81       97       81      107   \n",
       "\n",
       "     Speed  Legendary  \n",
       "377     23      False  \n",
       "378     43      False  "
      ]
     },
     "execution_count": 195,
     "metadata": {},
     "output_type": "execute_result"
    }
   ],
   "source": [
    "df_pokemon[(df_pokemon['Class 2'] == 'Grass') & (df_pokemon['Class 1'] == 'Rock')]"
   ]
  },
  {
   "cell_type": "code",
   "execution_count": 236,
   "metadata": {},
   "outputs": [],
   "source": [
    "## Remove those by hand\n",
    "df_pokemon_non_rock = df_pokemon.drop([377, 378])"
   ]
  },
  {
   "cell_type": "code",
   "execution_count": 200,
   "metadata": {},
   "outputs": [
    {
     "data": {
      "text/plain": [
       "798"
      ]
     },
     "execution_count": 200,
     "metadata": {},
     "output_type": "execute_result"
    }
   ],
   "source": [
    "len(df_pokemon_non_rock)"
   ]
  },
  {
   "cell_type": "code",
   "execution_count": 208,
   "metadata": {},
   "outputs": [],
   "source": [
    "df_pokemon_grass = df_pokemon_non_rock[(df_pokemon_non_rock['Class 1'] == 'Grass') | \\\n",
    "                                       (df_pokemon_non_rock['Class 2'] == 'Grass')]"
   ]
  },
  {
   "cell_type": "code",
   "execution_count": 211,
   "metadata": {},
   "outputs": [],
   "source": [
    "df_pokemon_rock = df_pokemon_non_rock[(df_pokemon_non_rock['Class 1'] == 'Rock') | \\\n",
    "                                    (df_pokemon_non_rock['Class 2'] == 'Rock')]"
   ]
  },
  {
   "cell_type": "code",
   "execution_count": 216,
   "metadata": {},
   "outputs": [
    {
     "data": {
      "text/plain": [
       "count     93.000000\n",
       "mean      73.731183\n",
       "std       24.179645\n",
       "min       27.000000\n",
       "25%       59.000000\n",
       "50%       70.000000\n",
       "75%       95.000000\n",
       "max      132.000000\n",
       "Name: Attack, dtype: float64"
      ]
     },
     "execution_count": 216,
     "metadata": {},
     "output_type": "execute_result"
    }
   ],
   "source": [
    "df_pokemon_grass.Attack.describe()"
   ]
  },
  {
   "cell_type": "code",
   "execution_count": 218,
   "metadata": {},
   "outputs": [
    {
     "data": {
      "text/plain": [
       "count     56.000000\n",
       "mean      91.785714\n",
       "std       34.805284\n",
       "min       10.000000\n",
       "25%       63.000000\n",
       "50%       92.500000\n",
       "75%      116.250000\n",
       "max      165.000000\n",
       "Name: Attack, dtype: float64"
      ]
     },
     "execution_count": 218,
     "metadata": {},
     "output_type": "execute_result"
    }
   ],
   "source": [
    "df_pokemon_rock.Attack.describe()"
   ]
  },
  {
   "cell_type": "code",
   "execution_count": 232,
   "metadata": {},
   "outputs": [
    {
     "data": {
      "text/plain": [
       "<matplotlib.axes._subplots.AxesSubplot at 0x1a18e62f60>"
      ]
     },
     "execution_count": 232,
     "metadata": {},
     "output_type": "execute_result"
    },
    {
     "data": {
      "image/png": "[encoded data removed]",
      "text/plain": [
       "<Figure size 432x288 with 1 Axes>"
      ]
     },
     "metadata": {
      "needs_background": "light"
     },
     "output_type": "display_data"
    }
   ],
   "source": [
    "df_pokemon_grass.Attack.plot.hist(bins=25)"
   ]
  },
  {
   "cell_type": "code",
   "execution_count": 237,
   "metadata": {},
   "outputs": [
    {
     "data": {
      "text/plain": [
       "<matplotlib.axes._subplots.AxesSubplot at 0x1a191196d8>"
      ]
     },
     "execution_count": 237,
     "metadata": {},
     "output_type": "execute_result"
    },
    {
     "data": {
      "image/png": "[encoded data removed]",
      "text/plain": [
       "<Figure size 432x288 with 1 Axes>"
      ]
     },
     "metadata": {
      "needs_background": "light"
     },
     "output_type": "display_data"
    }
   ],
   "source": [
    "df_pokemon_rock.Attack.plot.hist(bins=25)"
   ]
  },
  {
   "cell_type": "markdown",
   "metadata": {},
   "source": [
    "#### Conclusion\n",
    "We assume both values come from a normal distribution, therefore the grass type we have a mean of 73 vs 91 for the rock, which doesn't match Prof. Oaks suspiction. Looking at the standard deviation we see, 24 for grass and 34 for rock. "
   ]
  },
  {
   "cell_type": "markdown",
   "metadata": {},
   "source": [
    "#### 4. Spark"
   ]
  },
  {
   "cell_type": "markdown",
   "metadata": {},
   "source": [
    "list the names of the 10 Pokémon with the largest number of victories."
   ]
  },
  {
   "cell_type": "code",
   "execution_count": 246,
   "metadata": {},
   "outputs": [],
   "source": [
    "\n",
    "import findspark\n",
    "findspark.init()\n",
    "\n",
    "from pyspark.sql import *\n",
    "from pyspark.sql.functions import *\n",
    "from pyspark.sql.functions import min\n",
    "\n",
    "from pyspark.sql import SparkSession\n",
    "from pyspark import SparkContext\n",
    "\n",
    "spark = SparkSession.builder.getOrCreate()\n",
    "sc = spark.sparkContext"
   ]
  },
  {
   "cell_type": "code",
   "execution_count": 274,
   "metadata": {},
   "outputs": [],
   "source": [
    "# Are you talking here about Pandas DataFrame or Spark DataFrame? Dafqu, this word is overloaded, be specific! \n",
    "# I assume these are Spark dataframes\n",
    "pokemon = spark.read.format('csv').option('header', 'true').load('pokemon.csv')\n",
    "combats = spark.read.format('csv').option('header', 'true').load('combats.csv')"
   ]
  },
  {
   "cell_type": "code",
   "execution_count": 304,
   "metadata": {},
   "outputs": [],
   "source": [
    "combats.groupBy('Winner').count().sort(desc('count')).registerTempTable('winner')\n",
    "pokemon.registerTempTable('pokemon')"
   ]
  },
  {
   "cell_type": "code",
   "execution_count": 311,
   "metadata": {},
   "outputs": [
    {
     "name": "stdout",
     "output_type": "stream",
     "text": [
      "+------------------+\n",
      "|              Name|\n",
      "+------------------+\n",
      "|            Mewtwo|\n",
      "|         Infernape|\n",
      "|        Aerodactyl|\n",
      "|           Jirachi|\n",
      "|Deoxys Speed Forme|\n",
      "|           Slaking|\n",
      "|           Murkrow|\n",
      "|        Mega Absol|\n",
      "|     Mega Houndoom|\n",
      "|     Mega Rayquaza|\n",
      "+------------------+\n",
      "\n"
     ]
    }
   ],
   "source": [
    "s = '''\n",
    "select Name\n",
    "from pokemon p\n",
    "    join winner w on w.Winner = p.pid\n",
    "order by w.count desc\n",
    "limit 10\n",
    "'''\n",
    "result2 = spark.sql(s)\n",
    "result2.show()"
   ]
  },
  {
   "cell_type": "markdown",
   "metadata": {},
   "source": [
    "### Question 2: Prediction - 40 points"
   ]
  },
  {
   "cell_type": "code",
   "execution_count": 424,
   "metadata": {},
   "outputs": [],
   "source": [
    "# 1. Generate the feature vectors and the labels to train your model."
   ]
  },
  {
   "cell_type": "code",
   "execution_count": 425,
   "metadata": {},
   "outputs": [],
   "source": [
    "# convert categories to boolean values"
   ]
  },
  {
   "cell_type": "code",
   "execution_count": 485,
   "metadata": {},
   "outputs": [],
   "source": [
    "df_dummy_class_one = pd.get_dummies(df_pokemon['Class 1'])\n",
    "df_dummy_class_two = pd.get_dummies(df_pokemon['Class 2'])\n",
    "df_dummy = df_dummy_class_one + df_dummy_class_two\n",
    "df_pokemon_feature = df_pokemon.copy()"
   ]
  },
  {
   "cell_type": "code",
   "execution_count": 486,
   "metadata": {},
   "outputs": [],
   "source": [
    "df_pokemon_feature.Legendary = df_pokemon_feature.Legendary.astype(int)\n",
    "df_pokemon_feature.head()\n",
    "df_pokemon_feature = df_pokemon_feature.loc[:, df_pokemon_feature.columns != 'Class 1']\n",
    "df_pokemon_feature = df_pokemon_feature.loc[:, df_pokemon_feature.columns != 'Class 2']\n",
    "df_pokemon_feature = df_pokemon_feature.loc[:, df_pokemon_feature.columns != 'Name']\n",
    "df_pokemon_feature = df_pokemon_feature.join(df_dummy)"
   ]
  },
  {
   "cell_type": "code",
   "execution_count": 527,
   "metadata": {},
   "outputs": [],
   "source": [
    "df_features_x = df_combats.merge(df_pokemon_feature, how='left', \n",
    "                               left_on='First_pokemon', right_on='pid' )\n",
    "df_features_x = df_features_x.merge(df_pokemon_feature, how='left', \n",
    "                               left_on='Second_pokemon', \n",
    "                                right_on='pid', suffixes=('_first', '_second'))\n",
    "df_features_x = df_features_x.loc[:, df_features_x.columns != 'First_pokemon']\n",
    "df_features_x = df_features_x.loc[:, df_features_x.columns != 'Second_pokemon']\n",
    "df_features_x = df_features_x.loc[:, df_features_x.columns != 'Winner']\n",
    "df_features_x = df_features_x.loc[:, df_features_x.columns != 'pid_first']\n",
    "df_features_x = df_features_x.loc[:, df_features_x.columns != 'pid_second']"
   ]
  },
  {
   "cell_type": "code",
   "execution_count": 531,
   "metadata": {},
   "outputs": [
    {
     "data": {
      "text/html": [
       "<div>\n",
       "<style scoped>\n",
       "    .dataframe tbody tr th:only-of-type {\n",
       "        vertical-align: middle;\n",
       "    }\n",
       "\n",
       "    .dataframe tbody tr th {\n",
       "        vertical-align: top;\n",
       "    }\n",
       "\n",
       "    .dataframe thead th {\n",
       "        text-align: right;\n",
       "    }\n",
       "</style>\n",
       "<table border=\"1\" class=\"dataframe\">\n",
       "  <thead>\n",
       "    <tr style=\"text-align: right;\">\n",
       "      <th></th>\n",
       "      <th>HP_first</th>\n",
       "      <th>Attack_first</th>\n",
       "      <th>Defense_first</th>\n",
       "      <th>Sp. Atk_first</th>\n",
       "      <th>Sp. Def_first</th>\n",
       "      <th>Speed_first</th>\n",
       "      <th>Legendary_first</th>\n",
       "      <th>Bug_first</th>\n",
       "      <th>Dark_first</th>\n",
       "      <th>Dragon_first</th>\n",
       "      <th>...</th>\n",
       "      <th>Ghost_second</th>\n",
       "      <th>Grass_second</th>\n",
       "      <th>Ground_second</th>\n",
       "      <th>Ice_second</th>\n",
       "      <th>Normal_second</th>\n",
       "      <th>Poison_second</th>\n",
       "      <th>Psychic_second</th>\n",
       "      <th>Rock_second</th>\n",
       "      <th>Steel_second</th>\n",
       "      <th>Water_second</th>\n",
       "    </tr>\n",
       "  </thead>\n",
       "  <tbody>\n",
       "    <tr>\n",
       "      <th>0</th>\n",
       "      <td>50</td>\n",
       "      <td>64</td>\n",
       "      <td>50</td>\n",
       "      <td>45</td>\n",
       "      <td>50</td>\n",
       "      <td>41</td>\n",
       "      <td>0</td>\n",
       "      <td>0</td>\n",
       "      <td>0</td>\n",
       "      <td>0</td>\n",
       "      <td>...</td>\n",
       "      <td>0</td>\n",
       "      <td>1</td>\n",
       "      <td>0</td>\n",
       "      <td>0</td>\n",
       "      <td>0</td>\n",
       "      <td>0</td>\n",
       "      <td>0</td>\n",
       "      <td>0</td>\n",
       "      <td>0</td>\n",
       "      <td>0</td>\n",
       "    </tr>\n",
       "    <tr>\n",
       "      <th>1</th>\n",
       "      <td>91</td>\n",
       "      <td>90</td>\n",
       "      <td>72</td>\n",
       "      <td>90</td>\n",
       "      <td>129</td>\n",
       "      <td>108</td>\n",
       "      <td>1</td>\n",
       "      <td>0</td>\n",
       "      <td>0</td>\n",
       "      <td>0</td>\n",
       "      <td>...</td>\n",
       "      <td>0</td>\n",
       "      <td>0</td>\n",
       "      <td>0</td>\n",
       "      <td>0</td>\n",
       "      <td>0</td>\n",
       "      <td>0</td>\n",
       "      <td>0</td>\n",
       "      <td>1</td>\n",
       "      <td>0</td>\n",
       "      <td>0</td>\n",
       "    </tr>\n",
       "    <tr>\n",
       "      <th>2</th>\n",
       "      <td>55</td>\n",
       "      <td>40</td>\n",
       "      <td>85</td>\n",
       "      <td>80</td>\n",
       "      <td>105</td>\n",
       "      <td>40</td>\n",
       "      <td>0</td>\n",
       "      <td>0</td>\n",
       "      <td>0</td>\n",
       "      <td>0</td>\n",
       "      <td>...</td>\n",
       "      <td>0</td>\n",
       "      <td>0</td>\n",
       "      <td>0</td>\n",
       "      <td>0</td>\n",
       "      <td>0</td>\n",
       "      <td>0</td>\n",
       "      <td>1</td>\n",
       "      <td>0</td>\n",
       "      <td>0</td>\n",
       "      <td>0</td>\n",
       "    </tr>\n",
       "    <tr>\n",
       "      <th>3</th>\n",
       "      <td>40</td>\n",
       "      <td>40</td>\n",
       "      <td>40</td>\n",
       "      <td>70</td>\n",
       "      <td>40</td>\n",
       "      <td>20</td>\n",
       "      <td>0</td>\n",
       "      <td>0</td>\n",
       "      <td>0</td>\n",
       "      <td>0</td>\n",
       "      <td>...</td>\n",
       "      <td>0</td>\n",
       "      <td>0</td>\n",
       "      <td>0</td>\n",
       "      <td>0</td>\n",
       "      <td>0</td>\n",
       "      <td>0</td>\n",
       "      <td>0</td>\n",
       "      <td>0</td>\n",
       "      <td>0</td>\n",
       "      <td>0</td>\n",
       "    </tr>\n",
       "    <tr>\n",
       "      <th>4</th>\n",
       "      <td>70</td>\n",
       "      <td>60</td>\n",
       "      <td>125</td>\n",
       "      <td>115</td>\n",
       "      <td>70</td>\n",
       "      <td>55</td>\n",
       "      <td>0</td>\n",
       "      <td>0</td>\n",
       "      <td>0</td>\n",
       "      <td>0</td>\n",
       "      <td>...</td>\n",
       "      <td>0</td>\n",
       "      <td>0</td>\n",
       "      <td>0</td>\n",
       "      <td>0</td>\n",
       "      <td>0</td>\n",
       "      <td>0</td>\n",
       "      <td>0</td>\n",
       "      <td>1</td>\n",
       "      <td>0</td>\n",
       "      <td>0</td>\n",
       "    </tr>\n",
       "  </tbody>\n",
       "</table>\n",
       "<p>5 rows × 50 columns</p>\n",
       "</div>"
      ],
      "text/plain": [
       "   HP_first  Attack_first  Defense_first  Sp. Atk_first  Sp. Def_first  \\\n",
       "0        50            64             50             45             50   \n",
       "1        91            90             72             90            129   \n",
       "2        55            40             85             80            105   \n",
       "3        40            40             40             70             40   \n",
       "4        70            60            125            115             70   \n",
       "\n",
       "   Speed_first  Legendary_first  Bug_first  Dark_first  Dragon_first  \\\n",
       "0           41                0          0           0             0   \n",
       "1          108                1          0           0             0   \n",
       "2           40                0          0           0             0   \n",
       "3           20                0          0           0             0   \n",
       "4           55                0          0           0             0   \n",
       "\n",
       "       ...       Ghost_second  Grass_second  Ground_second  Ice_second  \\\n",
       "0      ...                  0             1              0           0   \n",
       "1      ...                  0             0              0           0   \n",
       "2      ...                  0             0              0           0   \n",
       "3      ...                  0             0              0           0   \n",
       "4      ...                  0             0              0           0   \n",
       "\n",
       "   Normal_second  Poison_second  Psychic_second  Rock_second  Steel_second  \\\n",
       "0              0              0               0            0             0   \n",
       "1              0              0               0            1             0   \n",
       "2              0              0               1            0             0   \n",
       "3              0              0               0            0             0   \n",
       "4              0              0               0            1             0   \n",
       "\n",
       "   Water_second  \n",
       "0             0  \n",
       "1             0  \n",
       "2             0  \n",
       "3             0  \n",
       "4             0  \n",
       "\n",
       "[5 rows x 50 columns]"
      ]
     },
     "execution_count": 531,
     "metadata": {},
     "output_type": "execute_result"
    }
   ],
   "source": [
    "## Thse are my x values\n",
    "df_features_x.head()"
   ]
  },
  {
   "cell_type": "code",
   "execution_count": 660,
   "metadata": {},
   "outputs": [],
   "source": [
    "## These are my labels\n",
    "df_first = df_combats[df_combats.First_pokemon == df_combats.Winner].copy()\n",
    "df_second = df_combats[df_combats.Second_pokemon == df_combats.Winner].copy()"
   ]
  },
  {
   "cell_type": "code",
   "execution_count": 661,
   "metadata": {},
   "outputs": [],
   "source": [
    "df_features_y = df_combats.copy()"
   ]
  },
  {
   "cell_type": "code",
   "execution_count": 662,
   "metadata": {},
   "outputs": [],
   "source": [
    "df_first['Y'] = '0'\n",
    "df_second['Y'] = '1'\n",
    "df_features_y = df_first.append(df_second)['Y'].to_frame()"
   ]
  },
  {
   "cell_type": "markdown",
   "metadata": {},
   "source": [
    "##### 2.2 (5 points) How does your model handle categorical features and Pokémon with multiple classes?\n",
    "=> I convert them to dummy variables, multiple classes are handled correctly, such that if pokemon has rock and grass category, the dummy variable for grass and rock is set to true"
   ]
  },
  {
   "cell_type": "markdown",
   "metadata": {},
   "source": [
    "###### 2.3 Random forest (10 points) Train a random forest to predict the winner of a match based on the available features. To do so, split the full dataset randomly into a training set (90%) and a testing set (10%), and try different values of the number of estimators (n_estimators, try values 10, 25, 50, 100) and the maximum tree depth (max_depth, try values 2, 4, 10). Do this manually, without using any scikit-learn helpers."
   ]
  },
  {
   "cell_type": "code",
   "execution_count": 713,
   "metadata": {},
   "outputs": [],
   "source": [
    "def do_train(est, dept):\n",
    "    df_train_x = df_features_x.sample(frac=0.9)\n",
    "    df_train_y = df_features_y.loc[df_train_x.index]\n",
    "\n",
    "    df_test_x = df_features_x.loc[(set(df_features_x.index) - set(df_train_x.index))]\n",
    "    df_test_y = df_features_y.loc[(set(df_features_y.index) - set(df_train_y.index))]\n",
    "\n",
    "    model = RandomForestClassifier(n_estimators=est, max_depth=dept)\n",
    "    model.fit(df_train_x.values, df_train_y.values.ravel())\n",
    "\n",
    "    predictions = model.predict(np.array(df_test_x.values))\n",
    "\n",
    "    predicted = np.array(predictions.astype(int))\n",
    "    true_values = df_test_y.values.ravel().astype(int)\n",
    "\n",
    "    TP = np.sum(np.logical_and(predicted == 1, true_values == 1))\n",
    "    TN = np.sum(np.logical_and(predicted == 0, true_values == 0))\n",
    "    FP = np.sum(np.logical_and(predicted == 1, true_values == 0))\n",
    "    FN = np.sum(np.logical_and(predicted == 0, true_values == 1))\n",
    "\n",
    "    accuracy = (TP+TN)/len(true_values)\n",
    "    precision = TP/(TP+FP)\n",
    "    recall = TP/(TP+FN)\n",
    "    f1 = 1/(0.5*(1/precision+1/recall))\n",
    "\n",
    "    print(est, dept, \"Accuracy\", np.round(accuracy, 3), \n",
    "          \"Precision\", np.round(precision, 3), \n",
    "          \"Recall\", np.round(recall, 3), \n",
    "          \"F1\", np.round(f1, 3))"
   ]
  },
  {
   "cell_type": "code",
   "execution_count": 714,
   "metadata": {},
   "outputs": [
    {
     "name": "stdout",
     "output_type": "stream",
     "text": [
      "10 2 Accuracy 0.76 Precision 0.762 Recall 0.802 F1 0.782\n",
      "10 4 Accuracy 0.782 Precision 0.755 Recall 0.85 F1 0.8\n",
      "10 10 Accuracy 0.918 Precision 0.931 Recall 0.915 F1 0.923\n",
      "25 2 Accuracy 0.759 Precision 0.723 Recall 0.868 F1 0.789\n",
      "25 4 Accuracy 0.833 Precision 0.818 Recall 0.875 F1 0.846\n",
      "25 10 Accuracy 0.911 Precision 0.924 Recall 0.907 F1 0.915\n",
      "50 2 Accuracy 0.781 Precision 0.755 Recall 0.856 F1 0.803\n",
      "50 4 Accuracy 0.834 Precision 0.818 Recall 0.881 F1 0.849\n",
      "50 10 Accuracy 0.911 Precision 0.919 Recall 0.913 F1 0.916\n",
      "100 2 Accuracy 0.797 Precision 0.766 Recall 0.879 F1 0.818\n",
      "100 4 Accuracy 0.849 Precision 0.828 Recall 0.899 F1 0.862\n",
      "100 10 Accuracy 0.921 Precision 0.926 Recall 0.922 F1 0.924\n"
     ]
    }
   ],
   "source": [
    "for est in [10, 25, 50, 100]:\n",
    "    for dept in [2, 4, 10]:\n",
    "        do_train(est, dept)"
   ]
  },
  {
   "cell_type": "markdown",
   "metadata": {},
   "source": [
    "###### (5 points) Summarize and describe the results you obtain when training on 90% and testing on 10% of the data. What is the best combination of the two hyperparameters (number of estimators and maximum tree depth)?"
   ]
  },
  {
   "cell_type": "markdown",
   "metadata": {},
   "source": [
    "Analyzing the result, it seems, that the best hyperparameter for our setting is, n_estimator=50 and depth=10, because this is the value which max. our F1 score. \n",
    "F1 score has been chose, because it gives a good measure for classification. \n"
   ]
  },
  {
   "cell_type": "markdown",
   "metadata": {},
   "source": [
    "###### (5 points) Could the above training/testing setup potentially lead to wrong conclusions regarding the best hyperparameter setting? If so, describe why, and how you would address the problem. (Hint: think about how you’re making use of the data during training and testing).\n",
    "\n",
    "###### (7 points) Implement your solution to the problem you’ve identified in the previous subquestion (5), and show and describe your results."
   ]
  },
  {
   "cell_type": "markdown",
   "metadata": {},
   "source": [
    "We can extend the range of hyperparameter, because there might be local minimia. \n",
    "Let's check different ranges"
   ]
  },
  {
   "cell_type": "code",
   "execution_count": 726,
   "metadata": {},
   "outputs": [
    {
     "name": "stdout",
     "output_type": "stream",
     "text": [
      "20 1.0 Accuracy 0.757 Precision 0.722 Recall 0.884 F1 0.795\n",
      "20 6.444444444444445 Accuracy 0.872 Precision 0.878 Recall 0.878 F1 0.878\n",
      "20 11.88888888888889 Accuracy 0.912 Precision 0.918 Recall 0.917 F1 0.917\n",
      "20 17.333333333333336 Accuracy 0.935 Precision 0.939 Recall 0.936 F1 0.937\n",
      "20 22.77777777777778 Accuracy 0.932 Precision 0.946 Recall 0.927 F1 0.937\n",
      "20 28.22222222222222 Accuracy 0.943 Precision 0.953 Recall 0.939 F1 0.946\n",
      "20 33.66666666666667 Accuracy 0.946 Precision 0.959 Recall 0.939 F1 0.949\n",
      "20 39.111111111111114 Accuracy 0.941 Precision 0.956 Recall 0.934 F1 0.945\n",
      "20 44.55555555555556 Accuracy 0.942 Precision 0.95 Recall 0.937 F1 0.943\n",
      "20 50.0 Accuracy 0.944 Precision 0.953 Recall 0.939 F1 0.946\n",
      "24 1.0 Accuracy 0.724 Precision 0.701 Recall 0.829 F1 0.76\n",
      "24 6.444444444444445 Accuracy 0.866 Precision 0.869 Recall 0.882 F1 0.876\n",
      "24 11.88888888888889 Accuracy 0.92 Precision 0.925 Recall 0.92 F1 0.923\n",
      "24 17.333333333333336 Accuracy 0.935 Precision 0.939 Recall 0.936 F1 0.938\n",
      "24 22.77777777777778 Accuracy 0.937 Precision 0.94 Recall 0.94 F1 0.94\n",
      "24 28.22222222222222 Accuracy 0.946 Precision 0.958 Recall 0.941 F1 0.949\n",
      "24 33.66666666666667 Accuracy 0.935 Precision 0.948 Recall 0.929 F1 0.938\n",
      "24 39.111111111111114 Accuracy 0.937 Precision 0.944 Recall 0.935 F1 0.94\n",
      "24 44.55555555555556 Accuracy 0.943 Precision 0.953 Recall 0.938 F1 0.945\n",
      "24 50.0 Accuracy 0.946 Precision 0.954 Recall 0.943 F1 0.949\n",
      "28 1.0 Accuracy 0.706 Precision 0.664 Recall 0.891 F1 0.761\n",
      "28 6.444444444444445 Accuracy 0.864 Precision 0.853 Recall 0.896 F1 0.874\n",
      "28 11.88888888888889 Accuracy 0.925 Precision 0.934 Recall 0.922 F1 0.928\n",
      "28 17.333333333333336 Accuracy 0.94 Precision 0.943 Recall 0.943 F1 0.943\n",
      "28 22.77777777777778 Accuracy 0.934 Precision 0.94 Recall 0.933 F1 0.936\n",
      "28 28.22222222222222 Accuracy 0.946 Precision 0.952 Recall 0.945 F1 0.948\n",
      "28 33.66666666666667 Accuracy 0.944 Precision 0.955 Recall 0.938 F1 0.946\n",
      "28 39.111111111111114 Accuracy 0.939 Precision 0.947 Recall 0.939 F1 0.943\n",
      "28 44.55555555555556 Accuracy 0.945 Precision 0.952 Recall 0.941 F1 0.946\n",
      "28 50.0 Accuracy 0.945 Precision 0.953 Recall 0.942 F1 0.947\n",
      "32 1.0 Accuracy 0.75 Precision 0.703 Recall 0.909 F1 0.792\n",
      "32 6.444444444444445 Accuracy 0.862 Precision 0.856 Recall 0.888 F1 0.871\n",
      "32 11.88888888888889 Accuracy 0.926 Precision 0.93 Recall 0.931 F1 0.931\n",
      "32 17.333333333333336 Accuracy 0.936 Precision 0.939 Recall 0.94 F1 0.94\n",
      "32 22.77777777777778 Accuracy 0.939 Precision 0.944 Recall 0.939 F1 0.942\n",
      "32 28.22222222222222 Accuracy 0.943 Precision 0.951 Recall 0.94 F1 0.946\n",
      "32 33.66666666666667 Accuracy 0.946 Precision 0.956 Recall 0.942 F1 0.949\n",
      "32 39.111111111111114 Accuracy 0.939 Precision 0.95 Recall 0.936 F1 0.943\n",
      "32 44.55555555555556 Accuracy 0.943 Precision 0.953 Recall 0.938 F1 0.946\n",
      "32 50.0 Accuracy 0.941 Precision 0.953 Recall 0.933 F1 0.943\n",
      "36 1.0 Accuracy 0.746 Precision 0.706 Recall 0.875 F1 0.782\n",
      "36 6.444444444444445 Accuracy 0.875 Precision 0.87 Recall 0.898 F1 0.884\n",
      "36 11.88888888888889 Accuracy 0.921 Precision 0.931 Recall 0.917 F1 0.924\n",
      "36 17.333333333333336 Accuracy 0.942 Precision 0.951 Recall 0.94 F1 0.945\n",
      "36 22.77777777777778 Accuracy 0.943 Precision 0.953 Recall 0.94 F1 0.946\n",
      "36 28.22222222222222 Accuracy 0.943 Precision 0.946 Recall 0.946 F1 0.946\n",
      "36 33.66666666666667 Accuracy 0.947 Precision 0.954 Recall 0.948 F1 0.951\n",
      "36 39.111111111111114 Accuracy 0.939 Precision 0.955 Recall 0.931 F1 0.943\n",
      "36 44.55555555555556 Accuracy 0.941 Precision 0.948 Recall 0.938 F1 0.943\n",
      "36 50.0 Accuracy 0.946 Precision 0.953 Recall 0.944 F1 0.949\n"
     ]
    }
   ],
   "source": [
    "for est in [20, 24, 28, 32, 36]:\n",
    "    for dept in np.linspace(1, 50, 3):\n",
    "        do_train(est, dept)"
   ]
  },
  {
   "cell_type": "markdown",
   "metadata": {},
   "source": [
    "=> This gives us, a new hyperparameter which is n_estimator = **36** and n_depth = **33**"
   ]
  },
  {
   "cell_type": "markdown",
   "metadata": {},
   "source": [
    "###### (5 points) Finally, Professor Oak wants to know what the most predictive features are. Plot feature importance as a bar plot representing the 10 most predictive variables."
   ]
  },
  {
   "cell_type": "code",
   "execution_count": 738,
   "metadata": {},
   "outputs": [],
   "source": [
    "df_features = pd.DataFrame.from_records(list(zip(list(df_train_x.columns), list(model.feature_importances_))))"
   ]
  },
  {
   "cell_type": "code",
   "execution_count": 744,
   "metadata": {},
   "outputs": [
    {
     "data": {
      "text/html": [
       "<div>\n",
       "<style scoped>\n",
       "    .dataframe tbody tr th:only-of-type {\n",
       "        vertical-align: middle;\n",
       "    }\n",
       "\n",
       "    .dataframe tbody tr th {\n",
       "        vertical-align: top;\n",
       "    }\n",
       "\n",
       "    .dataframe thead th {\n",
       "        text-align: right;\n",
       "    }\n",
       "</style>\n",
       "<table border=\"1\" class=\"dataframe\">\n",
       "  <thead>\n",
       "    <tr style=\"text-align: right;\">\n",
       "      <th></th>\n",
       "      <th>0</th>\n",
       "      <th>1</th>\n",
       "    </tr>\n",
       "  </thead>\n",
       "  <tbody>\n",
       "    <tr>\n",
       "      <th>5</th>\n",
       "      <td>Speed_first</td>\n",
       "      <td>0.322165</td>\n",
       "    </tr>\n",
       "    <tr>\n",
       "      <th>30</th>\n",
       "      <td>Speed_second</td>\n",
       "      <td>0.306290</td>\n",
       "    </tr>\n",
       "    <tr>\n",
       "      <th>1</th>\n",
       "      <td>Attack_first</td>\n",
       "      <td>0.049876</td>\n",
       "    </tr>\n",
       "    <tr>\n",
       "      <th>26</th>\n",
       "      <td>Attack_second</td>\n",
       "      <td>0.045456</td>\n",
       "    </tr>\n",
       "    <tr>\n",
       "      <th>3</th>\n",
       "      <td>Sp. Atk_first</td>\n",
       "      <td>0.039568</td>\n",
       "    </tr>\n",
       "    <tr>\n",
       "      <th>28</th>\n",
       "      <td>Sp. Atk_second</td>\n",
       "      <td>0.036784</td>\n",
       "    </tr>\n",
       "    <tr>\n",
       "      <th>29</th>\n",
       "      <td>Sp. Def_second</td>\n",
       "      <td>0.024544</td>\n",
       "    </tr>\n",
       "    <tr>\n",
       "      <th>0</th>\n",
       "      <td>HP_first</td>\n",
       "      <td>0.022734</td>\n",
       "    </tr>\n",
       "    <tr>\n",
       "      <th>4</th>\n",
       "      <td>Sp. Def_first</td>\n",
       "      <td>0.021345</td>\n",
       "    </tr>\n",
       "    <tr>\n",
       "      <th>25</th>\n",
       "      <td>HP_second</td>\n",
       "      <td>0.020059</td>\n",
       "    </tr>\n",
       "    <tr>\n",
       "      <th>27</th>\n",
       "      <td>Defense_second</td>\n",
       "      <td>0.014099</td>\n",
       "    </tr>\n",
       "    <tr>\n",
       "      <th>2</th>\n",
       "      <td>Defense_first</td>\n",
       "      <td>0.013654</td>\n",
       "    </tr>\n",
       "    <tr>\n",
       "      <th>14</th>\n",
       "      <td>Flying_first</td>\n",
       "      <td>0.009139</td>\n",
       "    </tr>\n",
       "    <tr>\n",
       "      <th>31</th>\n",
       "      <td>Legendary_second</td>\n",
       "      <td>0.008629</td>\n",
       "    </tr>\n",
       "    <tr>\n",
       "      <th>6</th>\n",
       "      <td>Legendary_first</td>\n",
       "      <td>0.007523</td>\n",
       "    </tr>\n",
       "    <tr>\n",
       "      <th>39</th>\n",
       "      <td>Flying_second</td>\n",
       "      <td>0.006389</td>\n",
       "    </tr>\n",
       "    <tr>\n",
       "      <th>40</th>\n",
       "      <td>Ghost_second</td>\n",
       "      <td>0.003941</td>\n",
       "    </tr>\n",
       "    <tr>\n",
       "      <th>15</th>\n",
       "      <td>Ghost_first</td>\n",
       "      <td>0.002837</td>\n",
       "    </tr>\n",
       "    <tr>\n",
       "      <th>22</th>\n",
       "      <td>Rock_first</td>\n",
       "      <td>0.002681</td>\n",
       "    </tr>\n",
       "    <tr>\n",
       "      <th>44</th>\n",
       "      <td>Normal_second</td>\n",
       "      <td>0.002571</td>\n",
       "    </tr>\n",
       "  </tbody>\n",
       "</table>\n",
       "</div>"
      ],
      "text/plain": [
       "                   0         1\n",
       "5        Speed_first  0.322165\n",
       "30      Speed_second  0.306290\n",
       "1       Attack_first  0.049876\n",
       "26     Attack_second  0.045456\n",
       "3      Sp. Atk_first  0.039568\n",
       "28    Sp. Atk_second  0.036784\n",
       "29    Sp. Def_second  0.024544\n",
       "0           HP_first  0.022734\n",
       "4      Sp. Def_first  0.021345\n",
       "25         HP_second  0.020059\n",
       "27    Defense_second  0.014099\n",
       "2      Defense_first  0.013654\n",
       "14      Flying_first  0.009139\n",
       "31  Legendary_second  0.008629\n",
       "6    Legendary_first  0.007523\n",
       "39     Flying_second  0.006389\n",
       "40      Ghost_second  0.003941\n",
       "15       Ghost_first  0.002837\n",
       "22        Rock_first  0.002681\n",
       "44     Normal_second  0.002571"
      ]
     },
     "execution_count": 744,
     "metadata": {},
     "output_type": "execute_result"
    }
   ],
   "source": [
    "df_features.sort_values(1, ascending=False).head(20)"
   ]
  },
  {
   "cell_type": "markdown",
   "metadata": {},
   "source": [
    "=> According to the above list, these are the top 10 predictive values: \n",
    "1. Speed\n",
    "2. Attack, \n",
    "3. SP. Attack\n",
    "4. Sp. Defense, \n",
    "5. HP\n",
    "6. Defense, \n",
    "7. Flying, \n",
    "8. Legendary, \n",
    "9. Ghost, <= Category\n",
    "10. Rock <= Category\n",
    "\n"
   ]
  },
  {
   "cell_type": "markdown",
   "metadata": {},
   "source": [
    "### Question 3: Ranking - 30 points"
   ]
  },
  {
   "cell_type": "code",
   "execution_count": 756,
   "metadata": {},
   "outputs": [],
   "source": [
    "df_first = df_combats['First_pokemon'].to_frame()\n",
    "df_first['Pokemon'] = df_first['First_pokemon']\n",
    "df_first = df_first.loc[:, df_first.columns != 'First_pokemon']"
   ]
  },
  {
   "cell_type": "code",
   "execution_count": 349,
   "metadata": {},
   "outputs": [],
   "source": [
    "df_second = df_combats['Second_pokemon'].to_frame()\n",
    "df_second['Pokemon'] = df_second['Second_pokemon']\n",
    "df_second = df_second.loc[:, df_second.columns != 'Second_pokemon'];"
   ]
  },
  {
   "cell_type": "code",
   "execution_count": 359,
   "metadata": {},
   "outputs": [
    {
     "data": {
      "text/html": [
       "<div>\n",
       "<style scoped>\n",
       "    .dataframe tbody tr th:only-of-type {\n",
       "        vertical-align: middle;\n",
       "    }\n",
       "\n",
       "    .dataframe tbody tr th {\n",
       "        vertical-align: top;\n",
       "    }\n",
       "\n",
       "    .dataframe thead th {\n",
       "        text-align: right;\n",
       "    }\n",
       "</style>\n",
       "<table border=\"1\" class=\"dataframe\">\n",
       "  <thead>\n",
       "    <tr style=\"text-align: right;\">\n",
       "      <th></th>\n",
       "      <th>0</th>\n",
       "    </tr>\n",
       "    <tr>\n",
       "      <th>Pokemon</th>\n",
       "      <th></th>\n",
       "    </tr>\n",
       "  </thead>\n",
       "  <tbody>\n",
       "    <tr>\n",
       "      <th>1</th>\n",
       "      <td>133</td>\n",
       "    </tr>\n",
       "    <tr>\n",
       "      <th>2</th>\n",
       "      <td>121</td>\n",
       "    </tr>\n",
       "    <tr>\n",
       "      <th>3</th>\n",
       "      <td>132</td>\n",
       "    </tr>\n",
       "  </tbody>\n",
       "</table>\n",
       "</div>"
      ],
      "text/plain": [
       "           0\n",
       "Pokemon     \n",
       "1        133\n",
       "2        121\n",
       "3        132"
      ]
     },
     "execution_count": 359,
     "metadata": {},
     "output_type": "execute_result"
    }
   ],
   "source": [
    "df_all = df_first.append(df_second, ignore_index=False, sort=False)\n",
    "df_count_battles = df_all.groupby('Pokemon').size().to_frame()\n",
    "df_count_battles.head(3)"
   ]
  },
  {
   "cell_type": "code",
   "execution_count": 360,
   "metadata": {},
   "outputs": [],
   "source": [
    "### santiy check"
   ]
  },
  {
   "cell_type": "code",
   "execution_count": 379,
   "metadata": {},
   "outputs": [
    {
     "name": "stdout",
     "output_type": "stream",
     "text": [
      "133\n",
      "132\n"
     ]
    }
   ],
   "source": [
    "print(len(df_combats[df_combats['First_pokemon'] == 1]) + len(df_combats[df_combats['Second_pokemon'] == 1]))\n",
    "print(len(df_combats[df_combats['First_pokemon'] == 3]) + len(df_combats[df_combats['Second_pokemon'] == 3]))"
   ]
  },
  {
   "cell_type": "code",
   "execution_count": 399,
   "metadata": {},
   "outputs": [],
   "source": [
    "df_winner = df_combats.groupby('Winner').size().to_frame();\n"
   ]
  },
  {
   "cell_type": "code",
   "execution_count": 402,
   "metadata": {},
   "outputs": [
    {
     "data": {
      "text/plain": [
       "783"
      ]
     },
     "execution_count": 402,
     "metadata": {},
     "output_type": "execute_result"
    }
   ],
   "source": [
    "len(df_winner)"
   ]
  },
  {
   "cell_type": "code",
   "execution_count": 415,
   "metadata": {},
   "outputs": [],
   "source": [
    "df_combats_ranking = df_combats.copy()\n",
    "df_combats_ranking['CountWinner'] = df_winner[0]\n",
    "df_combats_ranking['CountBattles'] = df_count_battles[0]"
   ]
  },
  {
   "cell_type": "code",
   "execution_count": 416,
   "metadata": {},
   "outputs": [],
   "source": [
    "df_combats_ranking = df_combats_ranking.fillna(0)\n",
    "df_combats_ranking['Ratio'] = df_combats_ranking['CountWinner'] / df_combats_ranking['CountBattles']"
   ]
  },
  {
   "cell_type": "code",
   "execution_count": 745,
   "metadata": {},
   "outputs": [],
   "source": [
    "# Top pokemon with highest rating\n",
    "df_top_best = df_combats_ranking.sort_values('Ratio', ascending=False).head(10)"
   ]
  },
  {
   "cell_type": "code",
   "execution_count": 747,
   "metadata": {},
   "outputs": [],
   "source": [
    "df_top_best = df_top_best.merge(df_pokemon_feature, how='left', \n",
    "                               left_on='First_pokemon', right_on='pid' )\n",
    "df_top_best = df_top_best.merge(df_pokemon_feature, how='left', \n",
    "                               left_on='Second_pokemon', \n",
    "                                right_on='pid', suffixes=('_first', '_second'))"
   ]
  },
  {
   "cell_type": "code",
   "execution_count": 755,
   "metadata": {},
   "outputs": [
    {
     "data": {
      "text/html": [
       "<div>\n",
       "<style scoped>\n",
       "    .dataframe tbody tr th:only-of-type {\n",
       "        vertical-align: middle;\n",
       "    }\n",
       "\n",
       "    .dataframe tbody tr th {\n",
       "        vertical-align: top;\n",
       "    }\n",
       "\n",
       "    .dataframe thead th {\n",
       "        text-align: right;\n",
       "    }\n",
       "</style>\n",
       "<table border=\"1\" class=\"dataframe\">\n",
       "  <thead>\n",
       "    <tr style=\"text-align: right;\">\n",
       "      <th></th>\n",
       "      <th>Speed_first</th>\n",
       "      <th>Speed_second</th>\n",
       "      <th>Attack_first</th>\n",
       "      <th>Attack_second</th>\n",
       "      <th>Sp. Atk_first</th>\n",
       "      <th>Sp. Atk_second</th>\n",
       "      <th>Sp. Def_second</th>\n",
       "    </tr>\n",
       "  </thead>\n",
       "  <tbody>\n",
       "    <tr>\n",
       "      <th>0</th>\n",
       "      <td>55</td>\n",
       "      <td>45</td>\n",
       "      <td>85</td>\n",
       "      <td>45</td>\n",
       "      <td>85</td>\n",
       "      <td>45</td>\n",
       "      <td>70</td>\n",
       "    </tr>\n",
       "    <tr>\n",
       "      <th>1</th>\n",
       "      <td>25</td>\n",
       "      <td>95</td>\n",
       "      <td>85</td>\n",
       "      <td>40</td>\n",
       "      <td>30</td>\n",
       "      <td>75</td>\n",
       "      <td>85</td>\n",
       "    </tr>\n",
       "    <tr>\n",
       "      <th>2</th>\n",
       "      <td>65</td>\n",
       "      <td>68</td>\n",
       "      <td>65</td>\n",
       "      <td>100</td>\n",
       "      <td>80</td>\n",
       "      <td>97</td>\n",
       "      <td>81</td>\n",
       "    </tr>\n",
       "    <tr>\n",
       "      <th>3</th>\n",
       "      <td>50</td>\n",
       "      <td>70</td>\n",
       "      <td>66</td>\n",
       "      <td>125</td>\n",
       "      <td>81</td>\n",
       "      <td>60</td>\n",
       "      <td>70</td>\n",
       "    </tr>\n",
       "    <tr>\n",
       "      <th>4</th>\n",
       "      <td>86</td>\n",
       "      <td>29</td>\n",
       "      <td>65</td>\n",
       "      <td>22</td>\n",
       "      <td>105</td>\n",
       "      <td>27</td>\n",
       "      <td>30</td>\n",
       "    </tr>\n",
       "    <tr>\n",
       "      <th>5</th>\n",
       "      <td>115</td>\n",
       "      <td>100</td>\n",
       "      <td>125</td>\n",
       "      <td>100</td>\n",
       "      <td>125</td>\n",
       "      <td>80</td>\n",
       "      <td>85</td>\n",
       "    </tr>\n",
       "    <tr>\n",
       "      <th>6</th>\n",
       "      <td>50</td>\n",
       "      <td>60</td>\n",
       "      <td>105</td>\n",
       "      <td>55</td>\n",
       "      <td>55</td>\n",
       "      <td>45</td>\n",
       "      <td>40</td>\n",
       "    </tr>\n",
       "    <tr>\n",
       "      <th>7</th>\n",
       "      <td>43</td>\n",
       "      <td>95</td>\n",
       "      <td>82</td>\n",
       "      <td>90</td>\n",
       "      <td>46</td>\n",
       "      <td>110</td>\n",
       "      <td>80</td>\n",
       "    </tr>\n",
       "    <tr>\n",
       "      <th>8</th>\n",
       "      <td>120</td>\n",
       "      <td>150</td>\n",
       "      <td>85</td>\n",
       "      <td>135</td>\n",
       "      <td>105</td>\n",
       "      <td>70</td>\n",
       "      <td>95</td>\n",
       "    </tr>\n",
       "    <tr>\n",
       "      <th>9</th>\n",
       "      <td>52</td>\n",
       "      <td>115</td>\n",
       "      <td>104</td>\n",
       "      <td>70</td>\n",
       "      <td>94</td>\n",
       "      <td>65</td>\n",
       "      <td>65</td>\n",
       "    </tr>\n",
       "  </tbody>\n",
       "</table>\n",
       "</div>"
      ],
      "text/plain": [
       "   Speed_first  Speed_second  Attack_first  Attack_second  Sp. Atk_first  \\\n",
       "0           55            45            85             45             85   \n",
       "1           25            95            85             40             30   \n",
       "2           65            68            65            100             80   \n",
       "3           50            70            66            125             81   \n",
       "4           86            29            65             22            105   \n",
       "5          115           100           125            100            125   \n",
       "6           50            60           105             55             55   \n",
       "7           43            95            82             90             46   \n",
       "8          120           150            85            135            105   \n",
       "9           52           115           104             70             94   \n",
       "\n",
       "   Sp. Atk_second  Sp. Def_second  \n",
       "0              45              70  \n",
       "1              75              85  \n",
       "2              97              81  \n",
       "3              60              70  \n",
       "4              27              30  \n",
       "5              80              85  \n",
       "6              45              40  \n",
       "7             110              80  \n",
       "8              70              95  \n",
       "9              65              65  "
      ]
     },
     "execution_count": 755,
     "metadata": {},
     "output_type": "execute_result"
    }
   ],
   "source": [
    "df_top_best[['Speed_first', 'Speed_second', 'Attack_first', 'Attack_second', \n",
    "             'Sp. Atk_first', 'Sp. Atk_second', 'Sp. Def_second']]"
   ]
  },
  {
   "cell_type": "markdown",
   "metadata": {},
   "source": [
    "Discuss your results about feature importance from question 2.7 (regarding feature importance) in this context.\n",
    "\n",
    "=> The predicted features seems to influence the winning ration ( but not as much as one would hope )"
   ]
  },
  {
   "cell_type": "markdown",
   "metadata": {},
   "source": [
    "#### (10 points) A simple method for identifying the strongest Pokémon using this graph is to compute the matrix A = G + G2. Consider a given row of A; summing up all elements of that row results in a dominance score for the respective Pokémon. Explain what this score represents and why it may be interpreted as capturing the dominance of a Pokémon."
   ]
  },
  {
   "cell_type": "code",
   "execution_count": 768,
   "metadata": {},
   "outputs": [],
   "source": [
    "df_small_combat = df_combats[(df_combats.First_pokemon < 25) & (df_combats.Second_pokemon < 25)]"
   ]
  },
  {
   "cell_type": "code",
   "execution_count": 769,
   "metadata": {},
   "outputs": [],
   "source": [
    "df_nr_of_times_battle = pd.crosstab(df_small_combat.First_pokemon, df_small_combat.Second_pokemon)"
   ]
  },
  {
   "cell_type": "code",
   "execution_count": 773,
   "metadata": {},
   "outputs": [],
   "source": [
    "df_small_combat_winner_left = df_small_combat[df_small_combat.First_pokemon == df_small_combat.Winner]"
   ]
  },
  {
   "cell_type": "code",
   "execution_count": 776,
   "metadata": {},
   "outputs": [
    {
     "data": {
      "text/html": [
       "<div>\n",
       "<style scoped>\n",
       "    .dataframe tbody tr th:only-of-type {\n",
       "        vertical-align: middle;\n",
       "    }\n",
       "\n",
       "    .dataframe tbody tr th {\n",
       "        vertical-align: top;\n",
       "    }\n",
       "\n",
       "    .dataframe thead th {\n",
       "        text-align: right;\n",
       "    }\n",
       "</style>\n",
       "<table border=\"1\" class=\"dataframe\">\n",
       "  <thead>\n",
       "    <tr style=\"text-align: right;\">\n",
       "      <th>Second_pokemon</th>\n",
       "      <th>1</th>\n",
       "      <th>2</th>\n",
       "      <th>3</th>\n",
       "      <th>4</th>\n",
       "      <th>5</th>\n",
       "      <th>6</th>\n",
       "      <th>10</th>\n",
       "      <th>11</th>\n",
       "      <th>13</th>\n",
       "      <th>14</th>\n",
       "      <th>15</th>\n",
       "      <th>16</th>\n",
       "      <th>17</th>\n",
       "      <th>19</th>\n",
       "      <th>20</th>\n",
       "      <th>21</th>\n",
       "    </tr>\n",
       "    <tr>\n",
       "      <th>First_pokemon</th>\n",
       "      <th></th>\n",
       "      <th></th>\n",
       "      <th></th>\n",
       "      <th></th>\n",
       "      <th></th>\n",
       "      <th></th>\n",
       "      <th></th>\n",
       "      <th></th>\n",
       "      <th></th>\n",
       "      <th></th>\n",
       "      <th></th>\n",
       "      <th></th>\n",
       "      <th></th>\n",
       "      <th></th>\n",
       "      <th></th>\n",
       "      <th></th>\n",
       "    </tr>\n",
       "  </thead>\n",
       "  <tbody>\n",
       "    <tr>\n",
       "      <th>1</th>\n",
       "      <td>NaN</td>\n",
       "      <td>NaN</td>\n",
       "      <td>NaN</td>\n",
       "      <td>NaN</td>\n",
       "      <td>NaN</td>\n",
       "      <td>NaN</td>\n",
       "      <td>NaN</td>\n",
       "      <td>NaN</td>\n",
       "      <td>NaN</td>\n",
       "      <td>NaN</td>\n",
       "      <td>NaN</td>\n",
       "      <td>NaN</td>\n",
       "      <td>NaN</td>\n",
       "      <td>NaN</td>\n",
       "      <td>NaN</td>\n",
       "      <td>NaN</td>\n",
       "    </tr>\n",
       "    <tr>\n",
       "      <th>2</th>\n",
       "      <td>NaN</td>\n",
       "      <td>NaN</td>\n",
       "      <td>NaN</td>\n",
       "      <td>NaN</td>\n",
       "      <td>NaN</td>\n",
       "      <td>NaN</td>\n",
       "      <td>NaN</td>\n",
       "      <td>NaN</td>\n",
       "      <td>NaN</td>\n",
       "      <td>NaN</td>\n",
       "      <td>NaN</td>\n",
       "      <td>NaN</td>\n",
       "      <td>NaN</td>\n",
       "      <td>NaN</td>\n",
       "      <td>NaN</td>\n",
       "      <td>NaN</td>\n",
       "    </tr>\n",
       "    <tr>\n",
       "      <th>3</th>\n",
       "      <td>0.0</td>\n",
       "      <td>0.0</td>\n",
       "      <td>NaN</td>\n",
       "      <td>NaN</td>\n",
       "      <td>0.0</td>\n",
       "      <td>NaN</td>\n",
       "      <td>0.0</td>\n",
       "      <td>0.0</td>\n",
       "      <td>0.0</td>\n",
       "      <td>0.0</td>\n",
       "      <td>0.0</td>\n",
       "      <td>0.0</td>\n",
       "      <td>0.0</td>\n",
       "      <td>0.0</td>\n",
       "      <td>NaN</td>\n",
       "      <td>0.0</td>\n",
       "    </tr>\n",
       "    <tr>\n",
       "      <th>4</th>\n",
       "      <td>0.0</td>\n",
       "      <td>0.0</td>\n",
       "      <td>NaN</td>\n",
       "      <td>NaN</td>\n",
       "      <td>0.0</td>\n",
       "      <td>NaN</td>\n",
       "      <td>0.0</td>\n",
       "      <td>0.0</td>\n",
       "      <td>0.0</td>\n",
       "      <td>0.0</td>\n",
       "      <td>0.0</td>\n",
       "      <td>0.0</td>\n",
       "      <td>0.0</td>\n",
       "      <td>0.0</td>\n",
       "      <td>NaN</td>\n",
       "      <td>0.0</td>\n",
       "    </tr>\n",
       "    <tr>\n",
       "      <th>6</th>\n",
       "      <td>0.0</td>\n",
       "      <td>0.0</td>\n",
       "      <td>NaN</td>\n",
       "      <td>NaN</td>\n",
       "      <td>0.0</td>\n",
       "      <td>NaN</td>\n",
       "      <td>0.0</td>\n",
       "      <td>0.0</td>\n",
       "      <td>0.0</td>\n",
       "      <td>0.0</td>\n",
       "      <td>0.0</td>\n",
       "      <td>0.0</td>\n",
       "      <td>0.0</td>\n",
       "      <td>0.0</td>\n",
       "      <td>NaN</td>\n",
       "      <td>0.0</td>\n",
       "    </tr>\n",
       "    <tr>\n",
       "      <th>7</th>\n",
       "      <td>0.0</td>\n",
       "      <td>0.0</td>\n",
       "      <td>NaN</td>\n",
       "      <td>NaN</td>\n",
       "      <td>0.0</td>\n",
       "      <td>NaN</td>\n",
       "      <td>0.0</td>\n",
       "      <td>0.0</td>\n",
       "      <td>0.0</td>\n",
       "      <td>0.0</td>\n",
       "      <td>0.0</td>\n",
       "      <td>0.0</td>\n",
       "      <td>0.0</td>\n",
       "      <td>0.0</td>\n",
       "      <td>NaN</td>\n",
       "      <td>0.0</td>\n",
       "    </tr>\n",
       "    <tr>\n",
       "      <th>8</th>\n",
       "      <td>0.0</td>\n",
       "      <td>0.0</td>\n",
       "      <td>NaN</td>\n",
       "      <td>NaN</td>\n",
       "      <td>0.0</td>\n",
       "      <td>NaN</td>\n",
       "      <td>0.0</td>\n",
       "      <td>0.0</td>\n",
       "      <td>0.0</td>\n",
       "      <td>0.0</td>\n",
       "      <td>0.0</td>\n",
       "      <td>0.0</td>\n",
       "      <td>0.0</td>\n",
       "      <td>0.0</td>\n",
       "      <td>NaN</td>\n",
       "      <td>0.0</td>\n",
       "    </tr>\n",
       "    <tr>\n",
       "      <th>10</th>\n",
       "      <td>NaN</td>\n",
       "      <td>NaN</td>\n",
       "      <td>NaN</td>\n",
       "      <td>NaN</td>\n",
       "      <td>NaN</td>\n",
       "      <td>NaN</td>\n",
       "      <td>NaN</td>\n",
       "      <td>NaN</td>\n",
       "      <td>NaN</td>\n",
       "      <td>NaN</td>\n",
       "      <td>NaN</td>\n",
       "      <td>NaN</td>\n",
       "      <td>NaN</td>\n",
       "      <td>NaN</td>\n",
       "      <td>NaN</td>\n",
       "      <td>NaN</td>\n",
       "    </tr>\n",
       "    <tr>\n",
       "      <th>13</th>\n",
       "      <td>0.0</td>\n",
       "      <td>0.0</td>\n",
       "      <td>NaN</td>\n",
       "      <td>NaN</td>\n",
       "      <td>0.0</td>\n",
       "      <td>NaN</td>\n",
       "      <td>0.0</td>\n",
       "      <td>0.0</td>\n",
       "      <td>0.0</td>\n",
       "      <td>0.0</td>\n",
       "      <td>0.0</td>\n",
       "      <td>0.0</td>\n",
       "      <td>0.0</td>\n",
       "      <td>0.0</td>\n",
       "      <td>NaN</td>\n",
       "      <td>0.0</td>\n",
       "    </tr>\n",
       "    <tr>\n",
       "      <th>14</th>\n",
       "      <td>NaN</td>\n",
       "      <td>NaN</td>\n",
       "      <td>NaN</td>\n",
       "      <td>NaN</td>\n",
       "      <td>NaN</td>\n",
       "      <td>NaN</td>\n",
       "      <td>NaN</td>\n",
       "      <td>NaN</td>\n",
       "      <td>NaN</td>\n",
       "      <td>NaN</td>\n",
       "      <td>NaN</td>\n",
       "      <td>NaN</td>\n",
       "      <td>NaN</td>\n",
       "      <td>NaN</td>\n",
       "      <td>NaN</td>\n",
       "      <td>NaN</td>\n",
       "    </tr>\n",
       "    <tr>\n",
       "      <th>15</th>\n",
       "      <td>NaN</td>\n",
       "      <td>NaN</td>\n",
       "      <td>NaN</td>\n",
       "      <td>NaN</td>\n",
       "      <td>NaN</td>\n",
       "      <td>NaN</td>\n",
       "      <td>NaN</td>\n",
       "      <td>NaN</td>\n",
       "      <td>NaN</td>\n",
       "      <td>NaN</td>\n",
       "      <td>NaN</td>\n",
       "      <td>NaN</td>\n",
       "      <td>NaN</td>\n",
       "      <td>NaN</td>\n",
       "      <td>NaN</td>\n",
       "      <td>NaN</td>\n",
       "    </tr>\n",
       "    <tr>\n",
       "      <th>16</th>\n",
       "      <td>0.0</td>\n",
       "      <td>0.0</td>\n",
       "      <td>NaN</td>\n",
       "      <td>NaN</td>\n",
       "      <td>0.0</td>\n",
       "      <td>NaN</td>\n",
       "      <td>0.0</td>\n",
       "      <td>0.0</td>\n",
       "      <td>0.0</td>\n",
       "      <td>0.0</td>\n",
       "      <td>0.0</td>\n",
       "      <td>0.0</td>\n",
       "      <td>0.0</td>\n",
       "      <td>0.0</td>\n",
       "      <td>NaN</td>\n",
       "      <td>0.0</td>\n",
       "    </tr>\n",
       "    <tr>\n",
       "      <th>17</th>\n",
       "      <td>NaN</td>\n",
       "      <td>NaN</td>\n",
       "      <td>NaN</td>\n",
       "      <td>NaN</td>\n",
       "      <td>NaN</td>\n",
       "      <td>NaN</td>\n",
       "      <td>NaN</td>\n",
       "      <td>NaN</td>\n",
       "      <td>NaN</td>\n",
       "      <td>NaN</td>\n",
       "      <td>NaN</td>\n",
       "      <td>NaN</td>\n",
       "      <td>NaN</td>\n",
       "      <td>NaN</td>\n",
       "      <td>NaN</td>\n",
       "      <td>NaN</td>\n",
       "    </tr>\n",
       "    <tr>\n",
       "      <th>18</th>\n",
       "      <td>NaN</td>\n",
       "      <td>NaN</td>\n",
       "      <td>NaN</td>\n",
       "      <td>NaN</td>\n",
       "      <td>NaN</td>\n",
       "      <td>NaN</td>\n",
       "      <td>NaN</td>\n",
       "      <td>NaN</td>\n",
       "      <td>NaN</td>\n",
       "      <td>NaN</td>\n",
       "      <td>NaN</td>\n",
       "      <td>NaN</td>\n",
       "      <td>NaN</td>\n",
       "      <td>NaN</td>\n",
       "      <td>NaN</td>\n",
       "      <td>NaN</td>\n",
       "    </tr>\n",
       "    <tr>\n",
       "      <th>19</th>\n",
       "      <td>0.0</td>\n",
       "      <td>0.0</td>\n",
       "      <td>NaN</td>\n",
       "      <td>NaN</td>\n",
       "      <td>0.0</td>\n",
       "      <td>NaN</td>\n",
       "      <td>0.0</td>\n",
       "      <td>0.0</td>\n",
       "      <td>0.0</td>\n",
       "      <td>0.0</td>\n",
       "      <td>0.0</td>\n",
       "      <td>0.0</td>\n",
       "      <td>0.0</td>\n",
       "      <td>0.0</td>\n",
       "      <td>NaN</td>\n",
       "      <td>0.0</td>\n",
       "    </tr>\n",
       "    <tr>\n",
       "      <th>20</th>\n",
       "      <td>0.0</td>\n",
       "      <td>0.0</td>\n",
       "      <td>NaN</td>\n",
       "      <td>NaN</td>\n",
       "      <td>0.0</td>\n",
       "      <td>NaN</td>\n",
       "      <td>0.0</td>\n",
       "      <td>0.0</td>\n",
       "      <td>0.0</td>\n",
       "      <td>0.0</td>\n",
       "      <td>0.0</td>\n",
       "      <td>0.0</td>\n",
       "      <td>0.0</td>\n",
       "      <td>0.0</td>\n",
       "      <td>NaN</td>\n",
       "      <td>0.0</td>\n",
       "    </tr>\n",
       "    <tr>\n",
       "      <th>21</th>\n",
       "      <td>0.0</td>\n",
       "      <td>0.0</td>\n",
       "      <td>NaN</td>\n",
       "      <td>NaN</td>\n",
       "      <td>0.0</td>\n",
       "      <td>NaN</td>\n",
       "      <td>0.0</td>\n",
       "      <td>0.0</td>\n",
       "      <td>0.0</td>\n",
       "      <td>0.0</td>\n",
       "      <td>0.0</td>\n",
       "      <td>0.0</td>\n",
       "      <td>0.0</td>\n",
       "      <td>0.0</td>\n",
       "      <td>NaN</td>\n",
       "      <td>0.0</td>\n",
       "    </tr>\n",
       "    <tr>\n",
       "      <th>22</th>\n",
       "      <td>0.0</td>\n",
       "      <td>0.0</td>\n",
       "      <td>NaN</td>\n",
       "      <td>NaN</td>\n",
       "      <td>0.0</td>\n",
       "      <td>NaN</td>\n",
       "      <td>0.0</td>\n",
       "      <td>0.0</td>\n",
       "      <td>0.0</td>\n",
       "      <td>0.0</td>\n",
       "      <td>0.0</td>\n",
       "      <td>0.0</td>\n",
       "      <td>0.0</td>\n",
       "      <td>0.0</td>\n",
       "      <td>NaN</td>\n",
       "      <td>0.0</td>\n",
       "    </tr>\n",
       "    <tr>\n",
       "      <th>23</th>\n",
       "      <td>0.0</td>\n",
       "      <td>0.0</td>\n",
       "      <td>NaN</td>\n",
       "      <td>NaN</td>\n",
       "      <td>0.0</td>\n",
       "      <td>NaN</td>\n",
       "      <td>0.0</td>\n",
       "      <td>0.0</td>\n",
       "      <td>0.0</td>\n",
       "      <td>0.0</td>\n",
       "      <td>0.0</td>\n",
       "      <td>0.0</td>\n",
       "      <td>0.0</td>\n",
       "      <td>0.0</td>\n",
       "      <td>NaN</td>\n",
       "      <td>0.0</td>\n",
       "    </tr>\n",
       "    <tr>\n",
       "      <th>24</th>\n",
       "      <td>0.0</td>\n",
       "      <td>0.0</td>\n",
       "      <td>NaN</td>\n",
       "      <td>NaN</td>\n",
       "      <td>0.0</td>\n",
       "      <td>NaN</td>\n",
       "      <td>0.0</td>\n",
       "      <td>0.0</td>\n",
       "      <td>0.0</td>\n",
       "      <td>0.0</td>\n",
       "      <td>0.0</td>\n",
       "      <td>0.0</td>\n",
       "      <td>0.0</td>\n",
       "      <td>0.0</td>\n",
       "      <td>NaN</td>\n",
       "      <td>0.0</td>\n",
       "    </tr>\n",
       "  </tbody>\n",
       "</table>\n",
       "</div>"
      ],
      "text/plain": [
       "Second_pokemon   1    2   3   4    5   6    10   11   13   14   15   16   17  \\\n",
       "First_pokemon                                                                  \n",
       "1               NaN  NaN NaN NaN  NaN NaN  NaN  NaN  NaN  NaN  NaN  NaN  NaN   \n",
       "2               NaN  NaN NaN NaN  NaN NaN  NaN  NaN  NaN  NaN  NaN  NaN  NaN   \n",
       "3               0.0  0.0 NaN NaN  0.0 NaN  0.0  0.0  0.0  0.0  0.0  0.0  0.0   \n",
       "4               0.0  0.0 NaN NaN  0.0 NaN  0.0  0.0  0.0  0.0  0.0  0.0  0.0   \n",
       "6               0.0  0.0 NaN NaN  0.0 NaN  0.0  0.0  0.0  0.0  0.0  0.0  0.0   \n",
       "7               0.0  0.0 NaN NaN  0.0 NaN  0.0  0.0  0.0  0.0  0.0  0.0  0.0   \n",
       "8               0.0  0.0 NaN NaN  0.0 NaN  0.0  0.0  0.0  0.0  0.0  0.0  0.0   \n",
       "10              NaN  NaN NaN NaN  NaN NaN  NaN  NaN  NaN  NaN  NaN  NaN  NaN   \n",
       "13              0.0  0.0 NaN NaN  0.0 NaN  0.0  0.0  0.0  0.0  0.0  0.0  0.0   \n",
       "14              NaN  NaN NaN NaN  NaN NaN  NaN  NaN  NaN  NaN  NaN  NaN  NaN   \n",
       "15              NaN  NaN NaN NaN  NaN NaN  NaN  NaN  NaN  NaN  NaN  NaN  NaN   \n",
       "16              0.0  0.0 NaN NaN  0.0 NaN  0.0  0.0  0.0  0.0  0.0  0.0  0.0   \n",
       "17              NaN  NaN NaN NaN  NaN NaN  NaN  NaN  NaN  NaN  NaN  NaN  NaN   \n",
       "18              NaN  NaN NaN NaN  NaN NaN  NaN  NaN  NaN  NaN  NaN  NaN  NaN   \n",
       "19              0.0  0.0 NaN NaN  0.0 NaN  0.0  0.0  0.0  0.0  0.0  0.0  0.0   \n",
       "20              0.0  0.0 NaN NaN  0.0 NaN  0.0  0.0  0.0  0.0  0.0  0.0  0.0   \n",
       "21              0.0  0.0 NaN NaN  0.0 NaN  0.0  0.0  0.0  0.0  0.0  0.0  0.0   \n",
       "22              0.0  0.0 NaN NaN  0.0 NaN  0.0  0.0  0.0  0.0  0.0  0.0  0.0   \n",
       "23              0.0  0.0 NaN NaN  0.0 NaN  0.0  0.0  0.0  0.0  0.0  0.0  0.0   \n",
       "24              0.0  0.0 NaN NaN  0.0 NaN  0.0  0.0  0.0  0.0  0.0  0.0  0.0   \n",
       "\n",
       "Second_pokemon   19  20   21  \n",
       "First_pokemon                 \n",
       "1               NaN NaN  NaN  \n",
       "2               NaN NaN  NaN  \n",
       "3               0.0 NaN  0.0  \n",
       "4               0.0 NaN  0.0  \n",
       "6               0.0 NaN  0.0  \n",
       "7               0.0 NaN  0.0  \n",
       "8               0.0 NaN  0.0  \n",
       "10              NaN NaN  NaN  \n",
       "13              0.0 NaN  0.0  \n",
       "14              NaN NaN  NaN  \n",
       "15              NaN NaN  NaN  \n",
       "16              0.0 NaN  0.0  \n",
       "17              NaN NaN  NaN  \n",
       "18              NaN NaN  NaN  \n",
       "19              0.0 NaN  0.0  \n",
       "20              0.0 NaN  0.0  \n",
       "21              0.0 NaN  0.0  \n",
       "22              0.0 NaN  0.0  \n",
       "23              0.0 NaN  0.0  \n",
       "24              0.0 NaN  0.0  "
      ]
     },
     "execution_count": 776,
     "metadata": {},
     "output_type": "execute_result"
    }
   ],
   "source": [
    "df_nr_of_times_battle - pd.crosstab(df_small_combat_winner_left.First_pokemon, \n",
    "            df_small_combat_winner_left.Second_pokemon)"
   ]
  },
  {
   "cell_type": "code",
   "execution_count": null,
   "metadata": {},
   "outputs": [],
   "source": []
  }
 ],
 "metadata": {
  "kernelspec": {
   "display_name": "Python 3",
   "language": "python",
   "name": "python3"
  },
  "language_info": {
   "codemirror_mode": {
    "name": "ipython",
    "version": 3
   },
   "file_extension": ".py",
   "mimetype": "text/x-python",
   "name": "python",
   "nbconvert_exporter": "python",
   "pygments_lexer": "ipython3",
   "version": "3.6.7"
  }
 },
 "nbformat": 4,
 "nbformat_minor": 2
}
